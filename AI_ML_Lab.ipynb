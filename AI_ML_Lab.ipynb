{
  "nbformat": 4,
  "nbformat_minor": 0,
  "metadata": {
    "accelerator": "GPU",
    "colab": {
      "name": "AI_ML_Lab.ipynb",
      "provenance": []
    },
    "kernelspec": {
      "display_name": "PyCharm (AIML LAB)",
      "language": "python",
      "name": "pycharm-61939a8"
    },
    "language_info": {
      "codemirror_mode": {
        "name": "ipython",
        "version": 3
      },
      "file_extension": ".py",
      "mimetype": "text/x-python",
      "name": "python",
      "nbconvert_exporter": "python",
      "pygments_lexer": "ipython3",
      "version": "3.8.5"
    },
    "widgets": {
      "application/vnd.jupyter.widget-state+json": {}
    }
  },
  "cells": [
    {
      "cell_type": "code",
      "metadata": {
        "id": "O6ALamOCybKZ"
      },
      "source": [
        "!pip install pycaret"
      ],
      "execution_count": null,
      "outputs": []
    },
    {
      "cell_type": "code",
      "metadata": {
        "id": "G_X7HLTJydXR"
      },
      "source": [
        "!pip install pycaret[full]"
      ],
      "execution_count": null,
      "outputs": []
    },
    {
      "cell_type": "code",
      "metadata": {
        "id": "H5T5mEX0zHvi"
      },
      "source": [
        "# import pycaret as py\n",
        "import pandas as pd\n",
        "import numpy as np"
      ],
      "execution_count": null,
      "outputs": []
    },
    {
      "cell_type": "code",
      "metadata": {
        "id": "FqcKXY9TzmTW"
      },
      "source": [
        "features = pd.read_csv('features.csv')\n",
        "stores = pd.read_csv('stores.csv')\n",
        "train = pd.read_csv('train.csv')"
      ],
      "execution_count": null,
      "outputs": []
    },
    {
      "cell_type": "code",
      "metadata": {
        "id": "AjoOSZaxfcM-",
        "outputId": "46c436b3-7b88-417f-e359-8e745b66f52a"
      },
      "source": [
        "for columns in train:\n",
        "    print(columns)"
      ],
      "execution_count": null,
      "outputs": [
        {
          "output_type": "stream",
          "text": [
            "Store\n",
            "Dept\n",
            "Date\n",
            "Weekly_Sales\n",
            "IsHoliday\n"
          ],
          "name": "stdout"
        }
      ]
    },
    {
      "cell_type": "code",
      "metadata": {
        "id": "J0AbLW88Blwq"
      },
      "source": [
        "tdf = train.merge(features, 'left').merge(stores, 'left') "
      ],
      "execution_count": null,
      "outputs": []
    },
    {
      "cell_type": "code",
      "metadata": {
        "colab": {
          "base_uri": "https://localhost:8080/",
          "height": 549
        },
        "id": "DF5yJ1cNBzTG",
        "outputId": "c081cf79-5682-4940-f6aa-10b1778b2821"
      },
      "source": [
        "tdf.tail(10)"
      ],
      "execution_count": null,
      "outputs": [
        {
          "output_type": "execute_result",
          "data": {
            "text/html": [
              "<div>\n",
              "<style scoped>\n",
              "    .dataframe tbody tr th:only-of-type {\n",
              "        vertical-align: middle;\n",
              "    }\n",
              "\n",
              "    .dataframe tbody tr th {\n",
              "        vertical-align: top;\n",
              "    }\n",
              "\n",
              "    .dataframe thead th {\n",
              "        text-align: right;\n",
              "    }\n",
              "</style>\n",
              "<table border=\"1\" class=\"dataframe\">\n",
              "  <thead>\n",
              "    <tr style=\"text-align: right;\">\n",
              "      <th></th>\n",
              "      <th>Store</th>\n",
              "      <th>Dept</th>\n",
              "      <th>Date</th>\n",
              "      <th>Weekly_Sales</th>\n",
              "      <th>IsHoliday</th>\n",
              "      <th>Temperature</th>\n",
              "      <th>Fuel_Price</th>\n",
              "      <th>MarkDown1</th>\n",
              "      <th>MarkDown2</th>\n",
              "      <th>MarkDown3</th>\n",
              "      <th>MarkDown4</th>\n",
              "      <th>MarkDown5</th>\n",
              "      <th>CPI</th>\n",
              "      <th>Unemployment</th>\n",
              "      <th>Type</th>\n",
              "      <th>Size</th>\n",
              "    </tr>\n",
              "  </thead>\n",
              "  <tbody>\n",
              "    <tr>\n",
              "      <th>421560</th>\n",
              "      <td>45</td>\n",
              "      <td>98</td>\n",
              "      <td>2012-08-24</td>\n",
              "      <td>415.40</td>\n",
              "      <td>False</td>\n",
              "      <td>72.62</td>\n",
              "      <td>3.834</td>\n",
              "      <td>7936.20</td>\n",
              "      <td>58.38</td>\n",
              "      <td>22.00</td>\n",
              "      <td>5518.07</td>\n",
              "      <td>2291.97</td>\n",
              "      <td>191.344887</td>\n",
              "      <td>8.684</td>\n",
              "      <td>B</td>\n",
              "      <td>118221</td>\n",
              "    </tr>\n",
              "    <tr>\n",
              "      <th>421561</th>\n",
              "      <td>45</td>\n",
              "      <td>98</td>\n",
              "      <td>2012-08-31</td>\n",
              "      <td>346.04</td>\n",
              "      <td>False</td>\n",
              "      <td>75.09</td>\n",
              "      <td>3.867</td>\n",
              "      <td>23641.30</td>\n",
              "      <td>6.00</td>\n",
              "      <td>92.93</td>\n",
              "      <td>6988.31</td>\n",
              "      <td>3992.13</td>\n",
              "      <td>191.461281</td>\n",
              "      <td>8.684</td>\n",
              "      <td>B</td>\n",
              "      <td>118221</td>\n",
              "    </tr>\n",
              "    <tr>\n",
              "      <th>421562</th>\n",
              "      <td>45</td>\n",
              "      <td>98</td>\n",
              "      <td>2012-09-07</td>\n",
              "      <td>352.44</td>\n",
              "      <td>True</td>\n",
              "      <td>75.70</td>\n",
              "      <td>3.911</td>\n",
              "      <td>11024.45</td>\n",
              "      <td>12.80</td>\n",
              "      <td>52.63</td>\n",
              "      <td>1854.77</td>\n",
              "      <td>2055.70</td>\n",
              "      <td>191.577676</td>\n",
              "      <td>8.684</td>\n",
              "      <td>B</td>\n",
              "      <td>118221</td>\n",
              "    </tr>\n",
              "    <tr>\n",
              "      <th>421563</th>\n",
              "      <td>45</td>\n",
              "      <td>98</td>\n",
              "      <td>2012-09-14</td>\n",
              "      <td>605.96</td>\n",
              "      <td>False</td>\n",
              "      <td>67.87</td>\n",
              "      <td>3.948</td>\n",
              "      <td>11407.95</td>\n",
              "      <td>NaN</td>\n",
              "      <td>4.30</td>\n",
              "      <td>3421.72</td>\n",
              "      <td>5268.92</td>\n",
              "      <td>191.699850</td>\n",
              "      <td>8.684</td>\n",
              "      <td>B</td>\n",
              "      <td>118221</td>\n",
              "    </tr>\n",
              "    <tr>\n",
              "      <th>421564</th>\n",
              "      <td>45</td>\n",
              "      <td>98</td>\n",
              "      <td>2012-09-21</td>\n",
              "      <td>467.30</td>\n",
              "      <td>False</td>\n",
              "      <td>65.32</td>\n",
              "      <td>4.038</td>\n",
              "      <td>8452.20</td>\n",
              "      <td>92.28</td>\n",
              "      <td>63.24</td>\n",
              "      <td>2376.38</td>\n",
              "      <td>8670.40</td>\n",
              "      <td>191.856704</td>\n",
              "      <td>8.684</td>\n",
              "      <td>B</td>\n",
              "      <td>118221</td>\n",
              "    </tr>\n",
              "    <tr>\n",
              "      <th>421565</th>\n",
              "      <td>45</td>\n",
              "      <td>98</td>\n",
              "      <td>2012-09-28</td>\n",
              "      <td>508.37</td>\n",
              "      <td>False</td>\n",
              "      <td>64.88</td>\n",
              "      <td>3.997</td>\n",
              "      <td>4556.61</td>\n",
              "      <td>20.64</td>\n",
              "      <td>1.50</td>\n",
              "      <td>1601.01</td>\n",
              "      <td>3288.25</td>\n",
              "      <td>192.013558</td>\n",
              "      <td>8.684</td>\n",
              "      <td>B</td>\n",
              "      <td>118221</td>\n",
              "    </tr>\n",
              "    <tr>\n",
              "      <th>421566</th>\n",
              "      <td>45</td>\n",
              "      <td>98</td>\n",
              "      <td>2012-10-05</td>\n",
              "      <td>628.10</td>\n",
              "      <td>False</td>\n",
              "      <td>64.89</td>\n",
              "      <td>3.985</td>\n",
              "      <td>5046.74</td>\n",
              "      <td>NaN</td>\n",
              "      <td>18.82</td>\n",
              "      <td>2253.43</td>\n",
              "      <td>2340.01</td>\n",
              "      <td>192.170412</td>\n",
              "      <td>8.667</td>\n",
              "      <td>B</td>\n",
              "      <td>118221</td>\n",
              "    </tr>\n",
              "    <tr>\n",
              "      <th>421567</th>\n",
              "      <td>45</td>\n",
              "      <td>98</td>\n",
              "      <td>2012-10-12</td>\n",
              "      <td>1061.02</td>\n",
              "      <td>False</td>\n",
              "      <td>54.47</td>\n",
              "      <td>4.000</td>\n",
              "      <td>1956.28</td>\n",
              "      <td>NaN</td>\n",
              "      <td>7.89</td>\n",
              "      <td>599.32</td>\n",
              "      <td>3990.54</td>\n",
              "      <td>192.327265</td>\n",
              "      <td>8.667</td>\n",
              "      <td>B</td>\n",
              "      <td>118221</td>\n",
              "    </tr>\n",
              "    <tr>\n",
              "      <th>421568</th>\n",
              "      <td>45</td>\n",
              "      <td>98</td>\n",
              "      <td>2012-10-19</td>\n",
              "      <td>760.01</td>\n",
              "      <td>False</td>\n",
              "      <td>56.47</td>\n",
              "      <td>3.969</td>\n",
              "      <td>2004.02</td>\n",
              "      <td>NaN</td>\n",
              "      <td>3.18</td>\n",
              "      <td>437.73</td>\n",
              "      <td>1537.49</td>\n",
              "      <td>192.330854</td>\n",
              "      <td>8.667</td>\n",
              "      <td>B</td>\n",
              "      <td>118221</td>\n",
              "    </tr>\n",
              "    <tr>\n",
              "      <th>421569</th>\n",
              "      <td>45</td>\n",
              "      <td>98</td>\n",
              "      <td>2012-10-26</td>\n",
              "      <td>1076.80</td>\n",
              "      <td>False</td>\n",
              "      <td>58.85</td>\n",
              "      <td>3.882</td>\n",
              "      <td>4018.91</td>\n",
              "      <td>58.08</td>\n",
              "      <td>100.00</td>\n",
              "      <td>211.94</td>\n",
              "      <td>858.33</td>\n",
              "      <td>192.308899</td>\n",
              "      <td>8.667</td>\n",
              "      <td>B</td>\n",
              "      <td>118221</td>\n",
              "    </tr>\n",
              "  </tbody>\n",
              "</table>\n",
              "</div>"
            ],
            "text/plain": [
              "        Store  Dept        Date  Weekly_Sales  IsHoliday  Temperature  \\\n",
              "421560     45    98  2012-08-24        415.40      False        72.62   \n",
              "421561     45    98  2012-08-31        346.04      False        75.09   \n",
              "421562     45    98  2012-09-07        352.44       True        75.70   \n",
              "421563     45    98  2012-09-14        605.96      False        67.87   \n",
              "421564     45    98  2012-09-21        467.30      False        65.32   \n",
              "421565     45    98  2012-09-28        508.37      False        64.88   \n",
              "421566     45    98  2012-10-05        628.10      False        64.89   \n",
              "421567     45    98  2012-10-12       1061.02      False        54.47   \n",
              "421568     45    98  2012-10-19        760.01      False        56.47   \n",
              "421569     45    98  2012-10-26       1076.80      False        58.85   \n",
              "\n",
              "        Fuel_Price  MarkDown1  MarkDown2  MarkDown3  MarkDown4  MarkDown5  \\\n",
              "421560       3.834    7936.20      58.38      22.00    5518.07    2291.97   \n",
              "421561       3.867   23641.30       6.00      92.93    6988.31    3992.13   \n",
              "421562       3.911   11024.45      12.80      52.63    1854.77    2055.70   \n",
              "421563       3.948   11407.95        NaN       4.30    3421.72    5268.92   \n",
              "421564       4.038    8452.20      92.28      63.24    2376.38    8670.40   \n",
              "421565       3.997    4556.61      20.64       1.50    1601.01    3288.25   \n",
              "421566       3.985    5046.74        NaN      18.82    2253.43    2340.01   \n",
              "421567       4.000    1956.28        NaN       7.89     599.32    3990.54   \n",
              "421568       3.969    2004.02        NaN       3.18     437.73    1537.49   \n",
              "421569       3.882    4018.91      58.08     100.00     211.94     858.33   \n",
              "\n",
              "               CPI  Unemployment Type    Size  \n",
              "421560  191.344887         8.684    B  118221  \n",
              "421561  191.461281         8.684    B  118221  \n",
              "421562  191.577676         8.684    B  118221  \n",
              "421563  191.699850         8.684    B  118221  \n",
              "421564  191.856704         8.684    B  118221  \n",
              "421565  192.013558         8.684    B  118221  \n",
              "421566  192.170412         8.667    B  118221  \n",
              "421567  192.327265         8.667    B  118221  \n",
              "421568  192.330854         8.667    B  118221  \n",
              "421569  192.308899         8.667    B  118221  "
            ]
          },
          "metadata": {
            "tags": []
          },
          "execution_count": 7
        }
      ]
    },
    {
      "cell_type": "code",
      "metadata": {
        "id": "Rufk5gWlCNDW"
      },
      "source": [
        "%matplotlib inline\n",
        "import matplotlib.pyplot as plt\n",
        "import missingno as msno\n",
        "import seaborn as sns"
      ],
      "execution_count": null,
      "outputs": []
    },
    {
      "cell_type": "code",
      "metadata": {
        "colab": {
          "base_uri": "https://localhost:8080/",
          "height": 469
        },
        "id": "lkcJpsUHCX63",
        "outputId": "230353cb-69f0-4ed4-e26d-eb52c95a1726"
      },
      "source": [
        "msno.bar(tdf, color=\"red\")\n",
        "plt.show()"
      ],
      "execution_count": null,
      "outputs": [
        {
          "output_type": "display_data",
          "data": {
            "image/png": "[encoded data removed]",
            "text/plain": [
              "<Figure size 1800x720 with 3 Axes>"
            ]
          },
          "metadata": {
            "tags": []
          }
        }
      ]
    },
    {
      "cell_type": "code",
      "metadata": {
        "colab": {
          "base_uri": "https://localhost:8080/",
          "height": 679
        },
        "id": "nwzjPrieC1Mz",
        "outputId": "81d47fdf-4773-4817-b58d-4f45af5fc0c5"
      },
      "source": [
        "plt.figure(figsize= (15,10))\n",
        "sns.heatmap(tdf.corr(), annot= True, cmap= 'coolwarm')"
      ],
      "execution_count": null,
      "outputs": [
        {
          "output_type": "execute_result",
          "data": {
            "text/plain": [
              "<AxesSubplot:>"
            ]
          },
          "metadata": {
            "tags": []
          },
          "execution_count": 10
        },
        {
          "output_type": "display_data",
          "data": {
            "image/png": "[encoded data removed]",
            "text/plain": [
              "<Figure size 1080x720 with 2 Axes>"
            ]
          },
          "metadata": {
            "tags": []
          }
        }
      ]
    },
    {
      "cell_type": "code",
      "metadata": {
        "id": "ZVbHrrMTfcNC"
      },
      "source": [
        "import missingno as msno"
      ],
      "execution_count": null,
      "outputs": []
    },
    {
      "cell_type": "code",
      "metadata": {
        "id": "7c0v2DaUfcND",
        "outputId": "a8c46885-38ee-4864-cf38-bb283026dcc0"
      },
      "source": [
        "msno.matrix(tdf)"
      ],
      "execution_count": null,
      "outputs": [
        {
          "output_type": "execute_result",
          "data": {
            "text/plain": [
              "<AxesSubplot:>"
            ]
          },
          "metadata": {
            "tags": []
          },
          "execution_count": 12
        },
        {
          "output_type": "display_data",
          "data": {
            "image/png": "[encoded data removed]",
            "text/plain": [
              "<Figure size 1800x720 with 2 Axes>"
            ]
          },
          "metadata": {
            "tags": []
          }
        }
      ]
    },
    {
      "cell_type": "code",
      "metadata": {
        "colab": {
          "base_uri": "https://localhost:8080/"
        },
        "id": "bc5Ub5mrve8L",
        "outputId": "812bed69-1e55-4cd2-c241-7eb7c4fc977e"
      },
      "source": [
        "tdf.isnull().sum()"
      ],
      "execution_count": null,
      "outputs": [
        {
          "output_type": "execute_result",
          "data": {
            "text/plain": [
              "Store                0\n",
              "Dept                 0\n",
              "Date                 0\n",
              "Weekly_Sales         0\n",
              "IsHoliday            0\n",
              "Temperature          0\n",
              "Fuel_Price           0\n",
              "MarkDown1       270889\n",
              "MarkDown2       310322\n",
              "MarkDown3       284479\n",
              "MarkDown4       286603\n",
              "MarkDown5       270138\n",
              "CPI                  0\n",
              "Unemployment         0\n",
              "Type                 0\n",
              "Size                 0\n",
              "dtype: int64"
            ]
          },
          "metadata": {
            "tags": []
          },
          "execution_count": 13
        }
      ]
    },
    {
      "cell_type": "code",
      "metadata": {
        "colab": {
          "base_uri": "https://localhost:8080/"
        },
        "id": "kjk3rHkKwTac",
        "outputId": "adafb742-6bb1-4e49-9d9d-95a5eb6e77a3"
      },
      "source": [
        "markdown1_mean=tdf['MarkDown1'].mean()\n",
        "markdown1_mean"
      ],
      "execution_count": null,
      "outputs": [
        {
          "output_type": "execute_result",
          "data": {
            "text/plain": [
              "7246.420195910699"
            ]
          },
          "metadata": {
            "tags": []
          },
          "execution_count": 14
        }
      ]
    },
    {
      "cell_type": "code",
      "metadata": {
        "colab": {
          "base_uri": "https://localhost:8080/"
        },
        "id": "N7O215wcwmaj",
        "outputId": "6a9087e1-b94d-48c9-8da4-e0c988999c72"
      },
      "source": [
        "markdown1_median=tdf['MarkDown1'].median()\n",
        "markdown1_median"
      ],
      "execution_count": null,
      "outputs": [
        {
          "output_type": "execute_result",
          "data": {
            "text/plain": [
              "5347.45"
            ]
          },
          "metadata": {
            "tags": []
          },
          "execution_count": 15
        }
      ]
    },
    {
      "cell_type": "code",
      "metadata": {
        "colab": {
          "base_uri": "https://localhost:8080/"
        },
        "id": "x5V0Ks8OwjbG",
        "outputId": "0ef584df-64ca-4545-cbcb-615acf035cbb"
      },
      "source": [
        "tdf['MarkDown1'].mode()"
      ],
      "execution_count": null,
      "outputs": [
        {
          "output_type": "execute_result",
          "data": {
            "text/plain": [
              "0      1.50\n",
              "1    460.73\n",
              "dtype: float64"
            ]
          },
          "metadata": {
            "tags": []
          },
          "execution_count": 16
        }
      ]
    },
    {
      "cell_type": "code",
      "metadata": {
        "id": "BxOQS87oxY32"
      },
      "source": [
        "tdf['MarkDown1'].fillna(value=markdown1_mean, inplace=True)"
      ],
      "execution_count": null,
      "outputs": []
    },
    {
      "cell_type": "code",
      "metadata": {
        "colab": {
          "base_uri": "https://localhost:8080/"
        },
        "id": "X9giubeZy-gt",
        "outputId": "a2414d19-0b80-45b1-b55b-89bda64814cd"
      },
      "source": [
        "markdown2_mean=tdf['MarkDown2'].mean()\n",
        "markdown2_mean"
      ],
      "execution_count": null,
      "outputs": [
        {
          "output_type": "execute_result",
          "data": {
            "text/plain": [
              "3334.628621098572"
            ]
          },
          "metadata": {
            "tags": []
          },
          "execution_count": 18
        }
      ]
    },
    {
      "cell_type": "code",
      "metadata": {
        "colab": {
          "base_uri": "https://localhost:8080/"
        },
        "id": "b089lNd_zSqp",
        "outputId": "1ed62c0e-bf55-4a90-bea0-19cb41720f3a"
      },
      "source": [
        "markdown2_median=tdf['MarkDown2'].median()\n",
        "markdown2_median"
      ],
      "execution_count": null,
      "outputs": [
        {
          "output_type": "execute_result",
          "data": {
            "text/plain": [
              "192.0"
            ]
          },
          "metadata": {
            "tags": []
          },
          "execution_count": 19
        }
      ]
    },
    {
      "cell_type": "code",
      "metadata": {
        "id": "VVUxvdDjztm3"
      },
      "source": [
        "tdf['MarkDown2'].fillna(value=markdown2_mean, inplace=True)"
      ],
      "execution_count": null,
      "outputs": []
    },
    {
      "cell_type": "code",
      "metadata": {
        "colab": {
          "base_uri": "https://localhost:8080/"
        },
        "id": "OvsftkX80_Y-",
        "outputId": "e3d052e8-19ab-40a0-c23e-6b027948ac96"
      },
      "source": [
        "markdown3_mean=tdf['MarkDown3'].mean()\n",
        "markdown3_mean"
      ],
      "execution_count": null,
      "outputs": [
        {
          "output_type": "execute_result",
          "data": {
            "text/plain": [
              "1439.421384190147"
            ]
          },
          "metadata": {
            "tags": []
          },
          "execution_count": 21
        }
      ]
    },
    {
      "cell_type": "code",
      "metadata": {
        "colab": {
          "base_uri": "https://localhost:8080/"
        },
        "id": "WT9x7sXl1FLh",
        "outputId": "4602052c-508a-4e8f-93fe-5cdd57746b65"
      },
      "source": [
        "markdown3_median=tdf['MarkDown3'].median()\n",
        "markdown3_median"
      ],
      "execution_count": null,
      "outputs": [
        {
          "output_type": "execute_result",
          "data": {
            "text/plain": [
              "24.6"
            ]
          },
          "metadata": {
            "tags": []
          },
          "execution_count": 22
        }
      ]
    },
    {
      "cell_type": "code",
      "metadata": {
        "id": "DgZ2_4yE1VHt"
      },
      "source": [
        "tdf['MarkDown3'].fillna(value=markdown3_mean, inplace=True)"
      ],
      "execution_count": null,
      "outputs": []
    },
    {
      "cell_type": "code",
      "metadata": {
        "colab": {
          "base_uri": "https://localhost:8080/"
        },
        "id": "sa0sFYKq1sAg",
        "outputId": "150ca398-7e11-4731-eaeb-601328ce3dd8"
      },
      "source": [
        "markdown4_mean=tdf['MarkDown4'].mean()\n",
        "markdown4_mean"
      ],
      "execution_count": null,
      "outputs": [
        {
          "output_type": "execute_result",
          "data": {
            "text/plain": [
              "3383.1682560926743"
            ]
          },
          "metadata": {
            "tags": []
          },
          "execution_count": 24
        }
      ]
    },
    {
      "cell_type": "code",
      "metadata": {
        "colab": {
          "base_uri": "https://localhost:8080/"
        },
        "id": "3UMv6el01xn7",
        "outputId": "c1dd50c8-3a86-4737-f11f-366f97a56522"
      },
      "source": [
        "markdown4_median=tdf['MarkDown4'].median()\n",
        "markdown4_median"
      ],
      "execution_count": null,
      "outputs": [
        {
          "output_type": "execute_result",
          "data": {
            "text/plain": [
              "1481.31"
            ]
          },
          "metadata": {
            "tags": []
          },
          "execution_count": 25
        }
      ]
    },
    {
      "cell_type": "code",
      "metadata": {
        "id": "9IhflMzo2Div"
      },
      "source": [
        "tdf['MarkDown4'].fillna(value=markdown4_mean, inplace=True)"
      ],
      "execution_count": null,
      "outputs": []
    },
    {
      "cell_type": "code",
      "metadata": {
        "colab": {
          "base_uri": "https://localhost:8080/"
        },
        "id": "1GebNS_G2QtX",
        "outputId": "d3ecca5a-3aa5-46ff-a90a-00bf16543d4e"
      },
      "source": [
        "markdown5_mean=tdf['MarkDown5'].mean()\n",
        "markdown5_mean"
      ],
      "execution_count": null,
      "outputs": [
        {
          "output_type": "execute_result",
          "data": {
            "text/plain": [
              "4628.975079177479"
            ]
          },
          "metadata": {
            "tags": []
          },
          "execution_count": 27
        }
      ]
    },
    {
      "cell_type": "code",
      "metadata": {
        "colab": {
          "base_uri": "https://localhost:8080/"
        },
        "id": "mQoj3pqE2b7S",
        "outputId": "488d4459-38d3-4dc0-f70c-bf897dbaac65"
      },
      "source": [
        "markdown5_median=tdf['MarkDown5'].median()\n",
        "markdown5_median"
      ],
      "execution_count": null,
      "outputs": [
        {
          "output_type": "execute_result",
          "data": {
            "text/plain": [
              "3359.45"
            ]
          },
          "metadata": {
            "tags": []
          },
          "execution_count": 28
        }
      ]
    },
    {
      "cell_type": "code",
      "metadata": {
        "id": "ukCi8AZn2nil"
      },
      "source": [
        "tdf['MarkDown5'].fillna(value=markdown5_mean, inplace=True)"
      ],
      "execution_count": null,
      "outputs": []
    },
    {
      "cell_type": "code",
      "metadata": {
        "colab": {
          "base_uri": "https://localhost:8080/"
        },
        "id": "x9JHq2l7x2Mt",
        "outputId": "5c9adb69-ef15-4bc0-9457-2f6835be92f3"
      },
      "source": [
        "tdf.isnull().sum()"
      ],
      "execution_count": null,
      "outputs": [
        {
          "output_type": "execute_result",
          "data": {
            "text/plain": [
              "Store           0\n",
              "Dept            0\n",
              "Date            0\n",
              "Weekly_Sales    0\n",
              "IsHoliday       0\n",
              "Temperature     0\n",
              "Fuel_Price      0\n",
              "MarkDown1       0\n",
              "MarkDown2       0\n",
              "MarkDown3       0\n",
              "MarkDown4       0\n",
              "MarkDown5       0\n",
              "CPI             0\n",
              "Unemployment    0\n",
              "Type            0\n",
              "Size            0\n",
              "dtype: int64"
            ]
          },
          "metadata": {
            "tags": []
          },
          "execution_count": 30
        }
      ]
    },
    {
      "cell_type": "code",
      "metadata": {
        "colab": {
          "base_uri": "https://localhost:8080/"
        },
        "id": "OYdVCHFi3bJP",
        "outputId": "c0edf1e4-77a9-4922-d539-445b5366a571"
      },
      "source": [
        "tdf['Type'].unique()"
      ],
      "execution_count": null,
      "outputs": [
        {
          "output_type": "execute_result",
          "data": {
            "text/plain": [
              "array(['A', 'B', 'C'], dtype=object)"
            ]
          },
          "metadata": {
            "tags": []
          },
          "execution_count": 31
        }
      ]
    },
    {
      "cell_type": "code",
      "metadata": {
        "id": "Um1dqUkxfcNJ",
        "outputId": "a3701c30-551a-4b92-cbc0-4f608052f294"
      },
      "source": [
        "tdf['IsHoliday'].unique()"
      ],
      "execution_count": null,
      "outputs": [
        {
          "output_type": "execute_result",
          "data": {
            "text/plain": [
              "array([False,  True])"
            ]
          },
          "metadata": {
            "tags": []
          },
          "execution_count": 32
        }
      ]
    },
    {
      "cell_type": "code",
      "metadata": {
        "id": "p0m01P9NfcNK",
        "outputId": "58b8cd69-c823-407b-c13d-f0ba46870eae"
      },
      "source": [
        "tdf['IsHoliday']"
      ],
      "execution_count": null,
      "outputs": [
        {
          "output_type": "execute_result",
          "data": {
            "text/plain": [
              "0         False\n",
              "1          True\n",
              "2         False\n",
              "3         False\n",
              "4         False\n",
              "          ...  \n",
              "421565    False\n",
              "421566    False\n",
              "421567    False\n",
              "421568    False\n",
              "421569    False\n",
              "Name: IsHoliday, Length: 421570, dtype: bool"
            ]
          },
          "metadata": {
            "tags": []
          },
          "execution_count": 33
        }
      ]
    },
    {
      "cell_type": "code",
      "metadata": {
        "id": "f_k9XLRyfcNK"
      },
      "source": [
        "tdf['IsHoliday'] = tdf['IsHoliday'].astype(int)"
      ],
      "execution_count": null,
      "outputs": []
    },
    {
      "cell_type": "code",
      "metadata": {
        "id": "mH4a1hVlfcNK",
        "outputId": "f8fd9694-581a-4698-e133-8e349b730185"
      },
      "source": [
        "tdf['Date'].unique()"
      ],
      "execution_count": null,
      "outputs": [
        {
          "output_type": "execute_result",
          "data": {
            "text/plain": [
              "array(['2010-02-05', '2010-02-12', '2010-02-19', '2010-02-26',\n",
              "       '2010-03-05', '2010-03-12', '2010-03-19', '2010-03-26',\n",
              "       '2010-04-02', '2010-04-09', '2010-04-16', '2010-04-23',\n",
              "       '2010-04-30', '2010-05-07', '2010-05-14', '2010-05-21',\n",
              "       '2010-05-28', '2010-06-04', '2010-06-11', '2010-06-18',\n",
              "       '2010-06-25', '2010-07-02', '2010-07-09', '2010-07-16',\n",
              "       '2010-07-23', '2010-07-30', '2010-08-06', '2010-08-13',\n",
              "       '2010-08-20', '2010-08-27', '2010-09-03', '2010-09-10',\n",
              "       '2010-09-17', '2010-09-24', '2010-10-01', '2010-10-08',\n",
              "       '2010-10-15', '2010-10-22', '2010-10-29', '2010-11-05',\n",
              "       '2010-11-12', '2010-11-19', '2010-11-26', '2010-12-03',\n",
              "       '2010-12-10', '2010-12-17', '2010-12-24', '2010-12-31',\n",
              "       '2011-01-07', '2011-01-14', '2011-01-21', '2011-01-28',\n",
              "       '2011-02-04', '2011-02-11', '2011-02-18', '2011-02-25',\n",
              "       '2011-03-04', '2011-03-11', '2011-03-18', '2011-03-25',\n",
              "       '2011-04-01', '2011-04-08', '2011-04-15', '2011-04-22',\n",
              "       '2011-04-29', '2011-05-06', '2011-05-13', '2011-05-20',\n",
              "       '2011-05-27', '2011-06-03', '2011-06-10', '2011-06-17',\n",
              "       '2011-06-24', '2011-07-01', '2011-07-08', '2011-07-15',\n",
              "       '2011-07-22', '2011-07-29', '2011-08-05', '2011-08-12',\n",
              "       '2011-08-19', '2011-08-26', '2011-09-02', '2011-09-09',\n",
              "       '2011-09-16', '2011-09-23', '2011-09-30', '2011-10-07',\n",
              "       '2011-10-14', '2011-10-21', '2011-10-28', '2011-11-04',\n",
              "       '2011-11-11', '2011-11-18', '2011-11-25', '2011-12-02',\n",
              "       '2011-12-09', '2011-12-16', '2011-12-23', '2011-12-30',\n",
              "       '2012-01-06', '2012-01-13', '2012-01-20', '2012-01-27',\n",
              "       '2012-02-03', '2012-02-10', '2012-02-17', '2012-02-24',\n",
              "       '2012-03-02', '2012-03-09', '2012-03-16', '2012-03-23',\n",
              "       '2012-03-30', '2012-04-06', '2012-04-13', '2012-04-20',\n",
              "       '2012-04-27', '2012-05-04', '2012-05-11', '2012-05-18',\n",
              "       '2012-05-25', '2012-06-01', '2012-06-08', '2012-06-15',\n",
              "       '2012-06-22', '2012-06-29', '2012-07-06', '2012-07-13',\n",
              "       '2012-07-20', '2012-07-27', '2012-08-03', '2012-08-10',\n",
              "       '2012-08-17', '2012-08-24', '2012-08-31', '2012-09-07',\n",
              "       '2012-09-14', '2012-09-21', '2012-09-28', '2012-10-05',\n",
              "       '2012-10-12', '2012-10-19', '2012-10-26'], dtype=object)"
            ]
          },
          "metadata": {
            "tags": []
          },
          "execution_count": 35
        }
      ]
    },
    {
      "cell_type": "code",
      "metadata": {
        "id": "k5f-D4XsfcNK",
        "outputId": "936ae024-e5a3-4850-fc1d-53bfac0edb1c"
      },
      "source": [
        "tdf['IsHoliday']"
      ],
      "execution_count": null,
      "outputs": [
        {
          "output_type": "execute_result",
          "data": {
            "text/plain": [
              "0         0\n",
              "1         1\n",
              "2         0\n",
              "3         0\n",
              "4         0\n",
              "         ..\n",
              "421565    0\n",
              "421566    0\n",
              "421567    0\n",
              "421568    0\n",
              "421569    0\n",
              "Name: IsHoliday, Length: 421570, dtype: int32"
            ]
          },
          "metadata": {
            "tags": []
          },
          "execution_count": 36
        }
      ]
    },
    {
      "cell_type": "code",
      "metadata": {
        "id": "fw1-minufcNK",
        "outputId": "d52e6c28-3920-430f-b344-1016f2f73792"
      },
      "source": [
        "tdf['Weekly_Sales']"
      ],
      "execution_count": null,
      "outputs": [
        {
          "output_type": "execute_result",
          "data": {
            "text/plain": [
              "0         24924.50\n",
              "1         46039.49\n",
              "2         41595.55\n",
              "3         19403.54\n",
              "4         21827.90\n",
              "            ...   \n",
              "421565      508.37\n",
              "421566      628.10\n",
              "421567     1061.02\n",
              "421568      760.01\n",
              "421569     1076.80\n",
              "Name: Weekly_Sales, Length: 421570, dtype: float64"
            ]
          },
          "metadata": {
            "tags": []
          },
          "execution_count": 37
        }
      ]
    },
    {
      "cell_type": "code",
      "metadata": {
        "id": "Fmy0Xzh5fcNL",
        "outputId": "3c86347f-ed30-442a-900e-b4b623947f73"
      },
      "source": [
        "tdf.head(5)"
      ],
      "execution_count": null,
      "outputs": [
        {
          "output_type": "execute_result",
          "data": {
            "text/html": [
              "<div>\n",
              "<style scoped>\n",
              "    .dataframe tbody tr th:only-of-type {\n",
              "        vertical-align: middle;\n",
              "    }\n",
              "\n",
              "    .dataframe tbody tr th {\n",
              "        vertical-align: top;\n",
              "    }\n",
              "\n",
              "    .dataframe thead th {\n",
              "        text-align: right;\n",
              "    }\n",
              "</style>\n",
              "<table border=\"1\" class=\"dataframe\">\n",
              "  <thead>\n",
              "    <tr style=\"text-align: right;\">\n",
              "      <th></th>\n",
              "      <th>Store</th>\n",
              "      <th>Dept</th>\n",
              "      <th>Date</th>\n",
              "      <th>Weekly_Sales</th>\n",
              "      <th>IsHoliday</th>\n",
              "      <th>Temperature</th>\n",
              "      <th>Fuel_Price</th>\n",
              "      <th>MarkDown1</th>\n",
              "      <th>MarkDown2</th>\n",
              "      <th>MarkDown3</th>\n",
              "      <th>MarkDown4</th>\n",
              "      <th>MarkDown5</th>\n",
              "      <th>CPI</th>\n",
              "      <th>Unemployment</th>\n",
              "      <th>Type</th>\n",
              "      <th>Size</th>\n",
              "    </tr>\n",
              "  </thead>\n",
              "  <tbody>\n",
              "    <tr>\n",
              "      <th>0</th>\n",
              "      <td>1</td>\n",
              "      <td>1</td>\n",
              "      <td>2010-02-05</td>\n",
              "      <td>24924.50</td>\n",
              "      <td>0</td>\n",
              "      <td>42.31</td>\n",
              "      <td>2.572</td>\n",
              "      <td>7246.420196</td>\n",
              "      <td>3334.628621</td>\n",
              "      <td>1439.421384</td>\n",
              "      <td>3383.168256</td>\n",
              "      <td>4628.975079</td>\n",
              "      <td>211.096358</td>\n",
              "      <td>8.106</td>\n",
              "      <td>A</td>\n",
              "      <td>151315</td>\n",
              "    </tr>\n",
              "    <tr>\n",
              "      <th>1</th>\n",
              "      <td>1</td>\n",
              "      <td>1</td>\n",
              "      <td>2010-02-12</td>\n",
              "      <td>46039.49</td>\n",
              "      <td>1</td>\n",
              "      <td>38.51</td>\n",
              "      <td>2.548</td>\n",
              "      <td>7246.420196</td>\n",
              "      <td>3334.628621</td>\n",
              "      <td>1439.421384</td>\n",
              "      <td>3383.168256</td>\n",
              "      <td>4628.975079</td>\n",
              "      <td>211.242170</td>\n",
              "      <td>8.106</td>\n",
              "      <td>A</td>\n",
              "      <td>151315</td>\n",
              "    </tr>\n",
              "    <tr>\n",
              "      <th>2</th>\n",
              "      <td>1</td>\n",
              "      <td>1</td>\n",
              "      <td>2010-02-19</td>\n",
              "      <td>41595.55</td>\n",
              "      <td>0</td>\n",
              "      <td>39.93</td>\n",
              "      <td>2.514</td>\n",
              "      <td>7246.420196</td>\n",
              "      <td>3334.628621</td>\n",
              "      <td>1439.421384</td>\n",
              "      <td>3383.168256</td>\n",
              "      <td>4628.975079</td>\n",
              "      <td>211.289143</td>\n",
              "      <td>8.106</td>\n",
              "      <td>A</td>\n",
              "      <td>151315</td>\n",
              "    </tr>\n",
              "    <tr>\n",
              "      <th>3</th>\n",
              "      <td>1</td>\n",
              "      <td>1</td>\n",
              "      <td>2010-02-26</td>\n",
              "      <td>19403.54</td>\n",
              "      <td>0</td>\n",
              "      <td>46.63</td>\n",
              "      <td>2.561</td>\n",
              "      <td>7246.420196</td>\n",
              "      <td>3334.628621</td>\n",
              "      <td>1439.421384</td>\n",
              "      <td>3383.168256</td>\n",
              "      <td>4628.975079</td>\n",
              "      <td>211.319643</td>\n",
              "      <td>8.106</td>\n",
              "      <td>A</td>\n",
              "      <td>151315</td>\n",
              "    </tr>\n",
              "    <tr>\n",
              "      <th>4</th>\n",
              "      <td>1</td>\n",
              "      <td>1</td>\n",
              "      <td>2010-03-05</td>\n",
              "      <td>21827.90</td>\n",
              "      <td>0</td>\n",
              "      <td>46.50</td>\n",
              "      <td>2.625</td>\n",
              "      <td>7246.420196</td>\n",
              "      <td>3334.628621</td>\n",
              "      <td>1439.421384</td>\n",
              "      <td>3383.168256</td>\n",
              "      <td>4628.975079</td>\n",
              "      <td>211.350143</td>\n",
              "      <td>8.106</td>\n",
              "      <td>A</td>\n",
              "      <td>151315</td>\n",
              "    </tr>\n",
              "  </tbody>\n",
              "</table>\n",
              "</div>"
            ],
            "text/plain": [
              "   Store  Dept        Date  Weekly_Sales  IsHoliday  Temperature  Fuel_Price  \\\n",
              "0      1     1  2010-02-05      24924.50          0        42.31       2.572   \n",
              "1      1     1  2010-02-12      46039.49          1        38.51       2.548   \n",
              "2      1     1  2010-02-19      41595.55          0        39.93       2.514   \n",
              "3      1     1  2010-02-26      19403.54          0        46.63       2.561   \n",
              "4      1     1  2010-03-05      21827.90          0        46.50       2.625   \n",
              "\n",
              "     MarkDown1    MarkDown2    MarkDown3    MarkDown4    MarkDown5  \\\n",
              "0  7246.420196  3334.628621  1439.421384  3383.168256  4628.975079   \n",
              "1  7246.420196  3334.628621  1439.421384  3383.168256  4628.975079   \n",
              "2  7246.420196  3334.628621  1439.421384  3383.168256  4628.975079   \n",
              "3  7246.420196  3334.628621  1439.421384  3383.168256  4628.975079   \n",
              "4  7246.420196  3334.628621  1439.421384  3383.168256  4628.975079   \n",
              "\n",
              "          CPI  Unemployment Type    Size  \n",
              "0  211.096358         8.106    A  151315  \n",
              "1  211.242170         8.106    A  151315  \n",
              "2  211.289143         8.106    A  151315  \n",
              "3  211.319643         8.106    A  151315  \n",
              "4  211.350143         8.106    A  151315  "
            ]
          },
          "metadata": {
            "tags": []
          },
          "execution_count": 38
        }
      ]
    },
    {
      "cell_type": "code",
      "metadata": {
        "colab": {
          "base_uri": "https://localhost:8080/",
          "height": 289
        },
        "id": "BLGlJ5pEDZaK",
        "outputId": "248cb459-0b76-44b1-d4bc-7695d36a7fb2"
      },
      "source": [
        "plt.figure(figsize=(20,5))\n",
        "sns.distplot(tdf['Weekly_Sales'], bins=40, kde=True, color='red')\n",
        "plt.title('Weekly_Sales distribution')\n",
        "plt.show()"
      ],
      "execution_count": null,
      "outputs": [
        {
          "output_type": "stream",
          "text": [
            "H:\\AIML\\AIML LAB\\venv\\lib\\site-packages\\seaborn\\distributions.py:2557: FutureWarning: `distplot` is a deprecated function and will be removed in a future version. Please adapt your code to use either `displot` (a figure-level function with similar flexibility) or `histplot` (an axes-level function for histograms).\n",
            "  warnings.warn(msg, FutureWarning)\n"
          ],
          "name": "stderr"
        },
        {
          "output_type": "display_data",
          "data": {
            "image/png": "[encoded data removed]",
            "text/plain": [
              "<Figure size 1440x360 with 1 Axes>"
            ]
          },
          "metadata": {
            "tags": []
          }
        }
      ]
    },
    {
      "cell_type": "code",
      "metadata": {
        "colab": {
          "base_uri": "https://localhost:8080/",
          "height": 1000
        },
        "id": "khOcR9Jq1TyH",
        "outputId": "6824813b-df73-4ce4-c2bb-e3205bb7c544"
      },
      "source": [
        "from pycaret.classification import *\n",
        "clf1 = setup(data = tdf, target = 'IsHoliday', categorical_features= ['Type'],session_id=121)"
      ],
      "execution_count": null,
      "outputs": [
        {
          "output_type": "display_data",
          "data": {
            "text/html": [
              "<style type=\"text/css\">\n",
              "#T_3c426_row44_col1 {\n",
              "  background-color: lightgreen;\n",
              "}\n",
              "</style>\n",
              "<table id=\"T_3c426_\">\n",
              "  <thead>\n",
              "    <tr>\n",
              "      <th class=\"blank level0\" >&nbsp;</th>\n",
              "      <th class=\"col_heading level0 col0\" >Description</th>\n",
              "      <th class=\"col_heading level0 col1\" >Value</th>\n",
              "    </tr>\n",
              "  </thead>\n",
              "  <tbody>\n",
              "    <tr>\n",
              "      <th id=\"T_3c426_level0_row0\" class=\"row_heading level0 row0\" >0</th>\n",
              "      <td id=\"T_3c426_row0_col0\" class=\"data row0 col0\" >session_id</td>\n",
              "      <td id=\"T_3c426_row0_col1\" class=\"data row0 col1\" >121</td>\n",
              "    </tr>\n",
              "    <tr>\n",
              "      <th id=\"T_3c426_level0_row1\" class=\"row_heading level0 row1\" >1</th>\n",
              "      <td id=\"T_3c426_row1_col0\" class=\"data row1 col0\" >Target</td>\n",
              "      <td id=\"T_3c426_row1_col1\" class=\"data row1 col1\" >IsHoliday</td>\n",
              "    </tr>\n",
              "    <tr>\n",
              "      <th id=\"T_3c426_level0_row2\" class=\"row_heading level0 row2\" >2</th>\n",
              "      <td id=\"T_3c426_row2_col0\" class=\"data row2 col0\" >Target Type</td>\n",
              "      <td id=\"T_3c426_row2_col1\" class=\"data row2 col1\" >Binary</td>\n",
              "    </tr>\n",
              "    <tr>\n",
              "      <th id=\"T_3c426_level0_row3\" class=\"row_heading level0 row3\" >3</th>\n",
              "      <td id=\"T_3c426_row3_col0\" class=\"data row3 col0\" >Label Encoded</td>\n",
              "      <td id=\"T_3c426_row3_col1\" class=\"data row3 col1\" >None</td>\n",
              "    </tr>\n",
              "    <tr>\n",
              "      <th id=\"T_3c426_level0_row4\" class=\"row_heading level0 row4\" >4</th>\n",
              "      <td id=\"T_3c426_row4_col0\" class=\"data row4 col0\" >Original Data</td>\n",
              "      <td id=\"T_3c426_row4_col1\" class=\"data row4 col1\" >(421570, 16)</td>\n",
              "    </tr>\n",
              "    <tr>\n",
              "      <th id=\"T_3c426_level0_row5\" class=\"row_heading level0 row5\" >5</th>\n",
              "      <td id=\"T_3c426_row5_col0\" class=\"data row5 col0\" >Missing Values</td>\n",
              "      <td id=\"T_3c426_row5_col1\" class=\"data row5 col1\" >False</td>\n",
              "    </tr>\n",
              "    <tr>\n",
              "      <th id=\"T_3c426_level0_row6\" class=\"row_heading level0 row6\" >6</th>\n",
              "      <td id=\"T_3c426_row6_col0\" class=\"data row6 col0\" >Numeric Features</td>\n",
              "      <td id=\"T_3c426_row6_col1\" class=\"data row6 col1\" >13</td>\n",
              "    </tr>\n",
              "    <tr>\n",
              "      <th id=\"T_3c426_level0_row7\" class=\"row_heading level0 row7\" >7</th>\n",
              "      <td id=\"T_3c426_row7_col0\" class=\"data row7 col0\" >Categorical Features</td>\n",
              "      <td id=\"T_3c426_row7_col1\" class=\"data row7 col1\" >1</td>\n",
              "    </tr>\n",
              "    <tr>\n",
              "      <th id=\"T_3c426_level0_row8\" class=\"row_heading level0 row8\" >8</th>\n",
              "      <td id=\"T_3c426_row8_col0\" class=\"data row8 col0\" >Ordinal Features</td>\n",
              "      <td id=\"T_3c426_row8_col1\" class=\"data row8 col1\" >False</td>\n",
              "    </tr>\n",
              "    <tr>\n",
              "      <th id=\"T_3c426_level0_row9\" class=\"row_heading level0 row9\" >9</th>\n",
              "      <td id=\"T_3c426_row9_col0\" class=\"data row9 col0\" >High Cardinality Features</td>\n",
              "      <td id=\"T_3c426_row9_col1\" class=\"data row9 col1\" >False</td>\n",
              "    </tr>\n",
              "    <tr>\n",
              "      <th id=\"T_3c426_level0_row10\" class=\"row_heading level0 row10\" >10</th>\n",
              "      <td id=\"T_3c426_row10_col0\" class=\"data row10 col0\" >High Cardinality Method</td>\n",
              "      <td id=\"T_3c426_row10_col1\" class=\"data row10 col1\" >None</td>\n",
              "    </tr>\n",
              "    <tr>\n",
              "      <th id=\"T_3c426_level0_row11\" class=\"row_heading level0 row11\" >11</th>\n",
              "      <td id=\"T_3c426_row11_col0\" class=\"data row11 col0\" >Transformed Train Set</td>\n",
              "      <td id=\"T_3c426_row11_col1\" class=\"data row11 col1\" >(295098, 31)</td>\n",
              "    </tr>\n",
              "    <tr>\n",
              "      <th id=\"T_3c426_level0_row12\" class=\"row_heading level0 row12\" >12</th>\n",
              "      <td id=\"T_3c426_row12_col0\" class=\"data row12 col0\" >Transformed Test Set</td>\n",
              "      <td id=\"T_3c426_row12_col1\" class=\"data row12 col1\" >(126472, 31)</td>\n",
              "    </tr>\n",
              "    <tr>\n",
              "      <th id=\"T_3c426_level0_row13\" class=\"row_heading level0 row13\" >13</th>\n",
              "      <td id=\"T_3c426_row13_col0\" class=\"data row13 col0\" >Shuffle Train-Test</td>\n",
              "      <td id=\"T_3c426_row13_col1\" class=\"data row13 col1\" >True</td>\n",
              "    </tr>\n",
              "    <tr>\n",
              "      <th id=\"T_3c426_level0_row14\" class=\"row_heading level0 row14\" >14</th>\n",
              "      <td id=\"T_3c426_row14_col0\" class=\"data row14 col0\" >Stratify Train-Test</td>\n",
              "      <td id=\"T_3c426_row14_col1\" class=\"data row14 col1\" >False</td>\n",
              "    </tr>\n",
              "    <tr>\n",
              "      <th id=\"T_3c426_level0_row15\" class=\"row_heading level0 row15\" >15</th>\n",
              "      <td id=\"T_3c426_row15_col0\" class=\"data row15 col0\" >Fold Generator</td>\n",
              "      <td id=\"T_3c426_row15_col1\" class=\"data row15 col1\" >StratifiedKFold</td>\n",
              "    </tr>\n",
              "    <tr>\n",
              "      <th id=\"T_3c426_level0_row16\" class=\"row_heading level0 row16\" >16</th>\n",
              "      <td id=\"T_3c426_row16_col0\" class=\"data row16 col0\" >Fold Number</td>\n",
              "      <td id=\"T_3c426_row16_col1\" class=\"data row16 col1\" >10</td>\n",
              "    </tr>\n",
              "    <tr>\n",
              "      <th id=\"T_3c426_level0_row17\" class=\"row_heading level0 row17\" >17</th>\n",
              "      <td id=\"T_3c426_row17_col0\" class=\"data row17 col0\" >CPU Jobs</td>\n",
              "      <td id=\"T_3c426_row17_col1\" class=\"data row17 col1\" >-1</td>\n",
              "    </tr>\n",
              "    <tr>\n",
              "      <th id=\"T_3c426_level0_row18\" class=\"row_heading level0 row18\" >18</th>\n",
              "      <td id=\"T_3c426_row18_col0\" class=\"data row18 col0\" >Use GPU</td>\n",
              "      <td id=\"T_3c426_row18_col1\" class=\"data row18 col1\" >False</td>\n",
              "    </tr>\n",
              "    <tr>\n",
              "      <th id=\"T_3c426_level0_row19\" class=\"row_heading level0 row19\" >19</th>\n",
              "      <td id=\"T_3c426_row19_col0\" class=\"data row19 col0\" >Log Experiment</td>\n",
              "      <td id=\"T_3c426_row19_col1\" class=\"data row19 col1\" >False</td>\n",
              "    </tr>\n",
              "    <tr>\n",
              "      <th id=\"T_3c426_level0_row20\" class=\"row_heading level0 row20\" >20</th>\n",
              "      <td id=\"T_3c426_row20_col0\" class=\"data row20 col0\" >Experiment Name</td>\n",
              "      <td id=\"T_3c426_row20_col1\" class=\"data row20 col1\" >clf-default-name</td>\n",
              "    </tr>\n",
              "    <tr>\n",
              "      <th id=\"T_3c426_level0_row21\" class=\"row_heading level0 row21\" >21</th>\n",
              "      <td id=\"T_3c426_row21_col0\" class=\"data row21 col0\" >USI</td>\n",
              "      <td id=\"T_3c426_row21_col1\" class=\"data row21 col1\" >b454</td>\n",
              "    </tr>\n",
              "    <tr>\n",
              "      <th id=\"T_3c426_level0_row22\" class=\"row_heading level0 row22\" >22</th>\n",
              "      <td id=\"T_3c426_row22_col0\" class=\"data row22 col0\" >Imputation Type</td>\n",
              "      <td id=\"T_3c426_row22_col1\" class=\"data row22 col1\" >simple</td>\n",
              "    </tr>\n",
              "    <tr>\n",
              "      <th id=\"T_3c426_level0_row23\" class=\"row_heading level0 row23\" >23</th>\n",
              "      <td id=\"T_3c426_row23_col0\" class=\"data row23 col0\" >Iterative Imputation Iteration</td>\n",
              "      <td id=\"T_3c426_row23_col1\" class=\"data row23 col1\" >None</td>\n",
              "    </tr>\n",
              "    <tr>\n",
              "      <th id=\"T_3c426_level0_row24\" class=\"row_heading level0 row24\" >24</th>\n",
              "      <td id=\"T_3c426_row24_col0\" class=\"data row24 col0\" >Numeric Imputer</td>\n",
              "      <td id=\"T_3c426_row24_col1\" class=\"data row24 col1\" >mean</td>\n",
              "    </tr>\n",
              "    <tr>\n",
              "      <th id=\"T_3c426_level0_row25\" class=\"row_heading level0 row25\" >25</th>\n",
              "      <td id=\"T_3c426_row25_col0\" class=\"data row25 col0\" >Iterative Imputation Numeric Model</td>\n",
              "      <td id=\"T_3c426_row25_col1\" class=\"data row25 col1\" >None</td>\n",
              "    </tr>\n",
              "    <tr>\n",
              "      <th id=\"T_3c426_level0_row26\" class=\"row_heading level0 row26\" >26</th>\n",
              "      <td id=\"T_3c426_row26_col0\" class=\"data row26 col0\" >Categorical Imputer</td>\n",
              "      <td id=\"T_3c426_row26_col1\" class=\"data row26 col1\" >constant</td>\n",
              "    </tr>\n",
              "    <tr>\n",
              "      <th id=\"T_3c426_level0_row27\" class=\"row_heading level0 row27\" >27</th>\n",
              "      <td id=\"T_3c426_row27_col0\" class=\"data row27 col0\" >Iterative Imputation Categorical Model</td>\n",
              "      <td id=\"T_3c426_row27_col1\" class=\"data row27 col1\" >None</td>\n",
              "    </tr>\n",
              "    <tr>\n",
              "      <th id=\"T_3c426_level0_row28\" class=\"row_heading level0 row28\" >28</th>\n",
              "      <td id=\"T_3c426_row28_col0\" class=\"data row28 col0\" >Unknown Categoricals Handling</td>\n",
              "      <td id=\"T_3c426_row28_col1\" class=\"data row28 col1\" >least_frequent</td>\n",
              "    </tr>\n",
              "    <tr>\n",
              "      <th id=\"T_3c426_level0_row29\" class=\"row_heading level0 row29\" >29</th>\n",
              "      <td id=\"T_3c426_row29_col0\" class=\"data row29 col0\" >Normalize</td>\n",
              "      <td id=\"T_3c426_row29_col1\" class=\"data row29 col1\" >False</td>\n",
              "    </tr>\n",
              "    <tr>\n",
              "      <th id=\"T_3c426_level0_row30\" class=\"row_heading level0 row30\" >30</th>\n",
              "      <td id=\"T_3c426_row30_col0\" class=\"data row30 col0\" >Normalize Method</td>\n",
              "      <td id=\"T_3c426_row30_col1\" class=\"data row30 col1\" >None</td>\n",
              "    </tr>\n",
              "    <tr>\n",
              "      <th id=\"T_3c426_level0_row31\" class=\"row_heading level0 row31\" >31</th>\n",
              "      <td id=\"T_3c426_row31_col0\" class=\"data row31 col0\" >Transformation</td>\n",
              "      <td id=\"T_3c426_row31_col1\" class=\"data row31 col1\" >False</td>\n",
              "    </tr>\n",
              "    <tr>\n",
              "      <th id=\"T_3c426_level0_row32\" class=\"row_heading level0 row32\" >32</th>\n",
              "      <td id=\"T_3c426_row32_col0\" class=\"data row32 col0\" >Transformation Method</td>\n",
              "      <td id=\"T_3c426_row32_col1\" class=\"data row32 col1\" >None</td>\n",
              "    </tr>\n",
              "    <tr>\n",
              "      <th id=\"T_3c426_level0_row33\" class=\"row_heading level0 row33\" >33</th>\n",
              "      <td id=\"T_3c426_row33_col0\" class=\"data row33 col0\" >PCA</td>\n",
              "      <td id=\"T_3c426_row33_col1\" class=\"data row33 col1\" >False</td>\n",
              "    </tr>\n",
              "    <tr>\n",
              "      <th id=\"T_3c426_level0_row34\" class=\"row_heading level0 row34\" >34</th>\n",
              "      <td id=\"T_3c426_row34_col0\" class=\"data row34 col0\" >PCA Method</td>\n",
              "      <td id=\"T_3c426_row34_col1\" class=\"data row34 col1\" >None</td>\n",
              "    </tr>\n",
              "    <tr>\n",
              "      <th id=\"T_3c426_level0_row35\" class=\"row_heading level0 row35\" >35</th>\n",
              "      <td id=\"T_3c426_row35_col0\" class=\"data row35 col0\" >PCA Components</td>\n",
              "      <td id=\"T_3c426_row35_col1\" class=\"data row35 col1\" >None</td>\n",
              "    </tr>\n",
              "    <tr>\n",
              "      <th id=\"T_3c426_level0_row36\" class=\"row_heading level0 row36\" >36</th>\n",
              "      <td id=\"T_3c426_row36_col0\" class=\"data row36 col0\" >Ignore Low Variance</td>\n",
              "      <td id=\"T_3c426_row36_col1\" class=\"data row36 col1\" >False</td>\n",
              "    </tr>\n",
              "    <tr>\n",
              "      <th id=\"T_3c426_level0_row37\" class=\"row_heading level0 row37\" >37</th>\n",
              "      <td id=\"T_3c426_row37_col0\" class=\"data row37 col0\" >Combine Rare Levels</td>\n",
              "      <td id=\"T_3c426_row37_col1\" class=\"data row37 col1\" >False</td>\n",
              "    </tr>\n",
              "    <tr>\n",
              "      <th id=\"T_3c426_level0_row38\" class=\"row_heading level0 row38\" >38</th>\n",
              "      <td id=\"T_3c426_row38_col0\" class=\"data row38 col0\" >Rare Level Threshold</td>\n",
              "      <td id=\"T_3c426_row38_col1\" class=\"data row38 col1\" >None</td>\n",
              "    </tr>\n",
              "    <tr>\n",
              "      <th id=\"T_3c426_level0_row39\" class=\"row_heading level0 row39\" >39</th>\n",
              "      <td id=\"T_3c426_row39_col0\" class=\"data row39 col0\" >Numeric Binning</td>\n",
              "      <td id=\"T_3c426_row39_col1\" class=\"data row39 col1\" >False</td>\n",
              "    </tr>\n",
              "    <tr>\n",
              "      <th id=\"T_3c426_level0_row40\" class=\"row_heading level0 row40\" >40</th>\n",
              "      <td id=\"T_3c426_row40_col0\" class=\"data row40 col0\" >Remove Outliers</td>\n",
              "      <td id=\"T_3c426_row40_col1\" class=\"data row40 col1\" >False</td>\n",
              "    </tr>\n",
              "    <tr>\n",
              "      <th id=\"T_3c426_level0_row41\" class=\"row_heading level0 row41\" >41</th>\n",
              "      <td id=\"T_3c426_row41_col0\" class=\"data row41 col0\" >Outliers Threshold</td>\n",
              "      <td id=\"T_3c426_row41_col1\" class=\"data row41 col1\" >None</td>\n",
              "    </tr>\n",
              "    <tr>\n",
              "      <th id=\"T_3c426_level0_row42\" class=\"row_heading level0 row42\" >42</th>\n",
              "      <td id=\"T_3c426_row42_col0\" class=\"data row42 col0\" >Remove Multicollinearity</td>\n",
              "      <td id=\"T_3c426_row42_col1\" class=\"data row42 col1\" >False</td>\n",
              "    </tr>\n",
              "    <tr>\n",
              "      <th id=\"T_3c426_level0_row43\" class=\"row_heading level0 row43\" >43</th>\n",
              "      <td id=\"T_3c426_row43_col0\" class=\"data row43 col0\" >Multicollinearity Threshold</td>\n",
              "      <td id=\"T_3c426_row43_col1\" class=\"data row43 col1\" >None</td>\n",
              "    </tr>\n",
              "    <tr>\n",
              "      <th id=\"T_3c426_level0_row44\" class=\"row_heading level0 row44\" >44</th>\n",
              "      <td id=\"T_3c426_row44_col0\" class=\"data row44 col0\" >Remove Perfect Collinearity</td>\n",
              "      <td id=\"T_3c426_row44_col1\" class=\"data row44 col1\" >True</td>\n",
              "    </tr>\n",
              "    <tr>\n",
              "      <th id=\"T_3c426_level0_row45\" class=\"row_heading level0 row45\" >45</th>\n",
              "      <td id=\"T_3c426_row45_col0\" class=\"data row45 col0\" >Clustering</td>\n",
              "      <td id=\"T_3c426_row45_col1\" class=\"data row45 col1\" >False</td>\n",
              "    </tr>\n",
              "    <tr>\n",
              "      <th id=\"T_3c426_level0_row46\" class=\"row_heading level0 row46\" >46</th>\n",
              "      <td id=\"T_3c426_row46_col0\" class=\"data row46 col0\" >Clustering Iteration</td>\n",
              "      <td id=\"T_3c426_row46_col1\" class=\"data row46 col1\" >None</td>\n",
              "    </tr>\n",
              "    <tr>\n",
              "      <th id=\"T_3c426_level0_row47\" class=\"row_heading level0 row47\" >47</th>\n",
              "      <td id=\"T_3c426_row47_col0\" class=\"data row47 col0\" >Polynomial Features</td>\n",
              "      <td id=\"T_3c426_row47_col1\" class=\"data row47 col1\" >False</td>\n",
              "    </tr>\n",
              "    <tr>\n",
              "      <th id=\"T_3c426_level0_row48\" class=\"row_heading level0 row48\" >48</th>\n",
              "      <td id=\"T_3c426_row48_col0\" class=\"data row48 col0\" >Polynomial Degree</td>\n",
              "      <td id=\"T_3c426_row48_col1\" class=\"data row48 col1\" >None</td>\n",
              "    </tr>\n",
              "    <tr>\n",
              "      <th id=\"T_3c426_level0_row49\" class=\"row_heading level0 row49\" >49</th>\n",
              "      <td id=\"T_3c426_row49_col0\" class=\"data row49 col0\" >Trignometry Features</td>\n",
              "      <td id=\"T_3c426_row49_col1\" class=\"data row49 col1\" >False</td>\n",
              "    </tr>\n",
              "    <tr>\n",
              "      <th id=\"T_3c426_level0_row50\" class=\"row_heading level0 row50\" >50</th>\n",
              "      <td id=\"T_3c426_row50_col0\" class=\"data row50 col0\" >Polynomial Threshold</td>\n",
              "      <td id=\"T_3c426_row50_col1\" class=\"data row50 col1\" >None</td>\n",
              "    </tr>\n",
              "    <tr>\n",
              "      <th id=\"T_3c426_level0_row51\" class=\"row_heading level0 row51\" >51</th>\n",
              "      <td id=\"T_3c426_row51_col0\" class=\"data row51 col0\" >Group Features</td>\n",
              "      <td id=\"T_3c426_row51_col1\" class=\"data row51 col1\" >False</td>\n",
              "    </tr>\n",
              "    <tr>\n",
              "      <th id=\"T_3c426_level0_row52\" class=\"row_heading level0 row52\" >52</th>\n",
              "      <td id=\"T_3c426_row52_col0\" class=\"data row52 col0\" >Feature Selection</td>\n",
              "      <td id=\"T_3c426_row52_col1\" class=\"data row52 col1\" >False</td>\n",
              "    </tr>\n",
              "    <tr>\n",
              "      <th id=\"T_3c426_level0_row53\" class=\"row_heading level0 row53\" >53</th>\n",
              "      <td id=\"T_3c426_row53_col0\" class=\"data row53 col0\" >Feature Selection Method</td>\n",
              "      <td id=\"T_3c426_row53_col1\" class=\"data row53 col1\" >classic</td>\n",
              "    </tr>\n",
              "    <tr>\n",
              "      <th id=\"T_3c426_level0_row54\" class=\"row_heading level0 row54\" >54</th>\n",
              "      <td id=\"T_3c426_row54_col0\" class=\"data row54 col0\" >Features Selection Threshold</td>\n",
              "      <td id=\"T_3c426_row54_col1\" class=\"data row54 col1\" >None</td>\n",
              "    </tr>\n",
              "    <tr>\n",
              "      <th id=\"T_3c426_level0_row55\" class=\"row_heading level0 row55\" >55</th>\n",
              "      <td id=\"T_3c426_row55_col0\" class=\"data row55 col0\" >Feature Interaction</td>\n",
              "      <td id=\"T_3c426_row55_col1\" class=\"data row55 col1\" >False</td>\n",
              "    </tr>\n",
              "    <tr>\n",
              "      <th id=\"T_3c426_level0_row56\" class=\"row_heading level0 row56\" >56</th>\n",
              "      <td id=\"T_3c426_row56_col0\" class=\"data row56 col0\" >Feature Ratio</td>\n",
              "      <td id=\"T_3c426_row56_col1\" class=\"data row56 col1\" >False</td>\n",
              "    </tr>\n",
              "    <tr>\n",
              "      <th id=\"T_3c426_level0_row57\" class=\"row_heading level0 row57\" >57</th>\n",
              "      <td id=\"T_3c426_row57_col0\" class=\"data row57 col0\" >Interaction Threshold</td>\n",
              "      <td id=\"T_3c426_row57_col1\" class=\"data row57 col1\" >None</td>\n",
              "    </tr>\n",
              "    <tr>\n",
              "      <th id=\"T_3c426_level0_row58\" class=\"row_heading level0 row58\" >58</th>\n",
              "      <td id=\"T_3c426_row58_col0\" class=\"data row58 col0\" >Fix Imbalance</td>\n",
              "      <td id=\"T_3c426_row58_col1\" class=\"data row58 col1\" >False</td>\n",
              "    </tr>\n",
              "    <tr>\n",
              "      <th id=\"T_3c426_level0_row59\" class=\"row_heading level0 row59\" >59</th>\n",
              "      <td id=\"T_3c426_row59_col0\" class=\"data row59 col0\" >Fix Imbalance Method</td>\n",
              "      <td id=\"T_3c426_row59_col1\" class=\"data row59 col1\" >SMOTE</td>\n",
              "    </tr>\n",
              "  </tbody>\n",
              "</table>\n"
            ],
            "text/plain": [
              "<pandas.io.formats.style.Styler at 0x1b5e014cbe0>"
            ]
          },
          "metadata": {
            "tags": []
          }
        }
      ]
    },
    {
      "cell_type": "code",
      "metadata": {
        "colab": {
          "base_uri": "https://localhost:8080/",
          "height": 117
        },
        "id": "mDnqRm6M5bVe",
        "outputId": "c34018a3-d0f9-4e71-c00b-af0a0b6f9490"
      },
      "source": [
        "best = compare_models()"
      ],
      "execution_count": null,
      "outputs": [
        {
          "output_type": "display_data",
          "data": {
            "text/html": [
              "<style type=\"text/css\">\n",
              "#T_f8648_ th {\n",
              "  text-align: left;\n",
              "}\n",
              "#T_f8648_row0_col0, #T_f8648_row1_col0, #T_f8648_row2_col0, #T_f8648_row2_col3, #T_f8648_row2_col5, #T_f8648_row2_col6, #T_f8648_row2_col7, #T_f8648_row3_col0, #T_f8648_row4_col0, #T_f8648_row5_col0, #T_f8648_row5_col1, #T_f8648_row5_col3, #T_f8648_row5_col5, #T_f8648_row5_col6, #T_f8648_row5_col7, #T_f8648_row6_col0, #T_f8648_row6_col1, #T_f8648_row6_col2, #T_f8648_row6_col3, #T_f8648_row6_col5, #T_f8648_row6_col6, #T_f8648_row6_col7, #T_f8648_row7_col0, #T_f8648_row7_col1, #T_f8648_row7_col2, #T_f8648_row7_col3, #T_f8648_row7_col4, #T_f8648_row7_col5, #T_f8648_row7_col6, #T_f8648_row7_col7, #T_f8648_row8_col0, #T_f8648_row8_col1, #T_f8648_row8_col2, #T_f8648_row8_col3, #T_f8648_row8_col4, #T_f8648_row8_col5, #T_f8648_row8_col6, #T_f8648_row8_col7, #T_f8648_row9_col0, #T_f8648_row9_col1, #T_f8648_row9_col2, #T_f8648_row9_col3, #T_f8648_row9_col4, #T_f8648_row9_col5, #T_f8648_row9_col6, #T_f8648_row9_col7, #T_f8648_row10_col0, #T_f8648_row10_col1, #T_f8648_row10_col2, #T_f8648_row10_col3, #T_f8648_row10_col4, #T_f8648_row10_col5, #T_f8648_row10_col6, #T_f8648_row10_col7, #T_f8648_row11_col0, #T_f8648_row11_col1, #T_f8648_row11_col2, #T_f8648_row11_col3, #T_f8648_row11_col4, #T_f8648_row11_col5, #T_f8648_row11_col6, #T_f8648_row11_col7, #T_f8648_row12_col0, #T_f8648_row12_col1, #T_f8648_row12_col2, #T_f8648_row12_col3, #T_f8648_row12_col4, #T_f8648_row12_col5, #T_f8648_row12_col6, #T_f8648_row12_col7, #T_f8648_row13_col0, #T_f8648_row13_col1, #T_f8648_row13_col2, #T_f8648_row13_col3, #T_f8648_row13_col4, #T_f8648_row13_col5, #T_f8648_row13_col6, #T_f8648_row13_col7, #T_f8648_row14_col0, #T_f8648_row14_col1, #T_f8648_row14_col2, #T_f8648_row14_col3, #T_f8648_row14_col4, #T_f8648_row14_col5, #T_f8648_row14_col6, #T_f8648_row14_col7 {\n",
              "  text-align: left;\n",
              "}\n",
              "#T_f8648_row0_col1, #T_f8648_row0_col2, #T_f8648_row0_col3, #T_f8648_row0_col4, #T_f8648_row0_col5, #T_f8648_row0_col6, #T_f8648_row0_col7, #T_f8648_row1_col1, #T_f8648_row1_col2, #T_f8648_row1_col3, #T_f8648_row1_col4, #T_f8648_row1_col5, #T_f8648_row1_col6, #T_f8648_row1_col7, #T_f8648_row2_col1, #T_f8648_row2_col2, #T_f8648_row2_col4, #T_f8648_row3_col1, #T_f8648_row3_col2, #T_f8648_row3_col3, #T_f8648_row3_col4, #T_f8648_row3_col5, #T_f8648_row3_col6, #T_f8648_row3_col7, #T_f8648_row4_col1, #T_f8648_row4_col2, #T_f8648_row4_col3, #T_f8648_row4_col4, #T_f8648_row4_col5, #T_f8648_row4_col6, #T_f8648_row4_col7, #T_f8648_row5_col2, #T_f8648_row5_col4, #T_f8648_row6_col4 {\n",
              "  text-align: left;\n",
              "  background-color: yellow;\n",
              "}\n",
              "#T_f8648_row0_col8, #T_f8648_row1_col8, #T_f8648_row2_col8, #T_f8648_row3_col8, #T_f8648_row4_col8, #T_f8648_row5_col8, #T_f8648_row6_col8, #T_f8648_row7_col8, #T_f8648_row8_col8, #T_f8648_row9_col8, #T_f8648_row10_col8, #T_f8648_row11_col8, #T_f8648_row12_col8, #T_f8648_row14_col8 {\n",
              "  text-align: left;\n",
              "  background-color: lightgrey;\n",
              "}\n",
              "#T_f8648_row13_col8 {\n",
              "  text-align: left;\n",
              "  background-color: yellow;\n",
              "  background-color: lightgrey;\n",
              "}\n",
              "</style>\n",
              "<table id=\"T_f8648_\">\n",
              "  <thead>\n",
              "    <tr>\n",
              "      <th class=\"blank level0\" >&nbsp;</th>\n",
              "      <th class=\"col_heading level0 col0\" >Model</th>\n",
              "      <th class=\"col_heading level0 col1\" >Accuracy</th>\n",
              "      <th class=\"col_heading level0 col2\" >AUC</th>\n",
              "      <th class=\"col_heading level0 col3\" >Recall</th>\n",
              "      <th class=\"col_heading level0 col4\" >Prec.</th>\n",
              "      <th class=\"col_heading level0 col5\" >F1</th>\n",
              "      <th class=\"col_heading level0 col6\" >Kappa</th>\n",
              "      <th class=\"col_heading level0 col7\" >MCC</th>\n",
              "      <th class=\"col_heading level0 col8\" >TT (Sec)</th>\n",
              "    </tr>\n",
              "  </thead>\n",
              "  <tbody>\n",
              "    <tr>\n",
              "      <th id=\"T_f8648_level0_row0\" class=\"row_heading level0 row0\" >dt</th>\n",
              "      <td id=\"T_f8648_row0_col0\" class=\"data row0 col0\" >Decision Tree Classifier</td>\n",
              "      <td id=\"T_f8648_row0_col1\" class=\"data row0 col1\" >1.0000</td>\n",
              "      <td id=\"T_f8648_row0_col2\" class=\"data row0 col2\" >1.0000</td>\n",
              "      <td id=\"T_f8648_row0_col3\" class=\"data row0 col3\" >1.0000</td>\n",
              "      <td id=\"T_f8648_row0_col4\" class=\"data row0 col4\" >1.0000</td>\n",
              "      <td id=\"T_f8648_row0_col5\" class=\"data row0 col5\" >1.0000</td>\n",
              "      <td id=\"T_f8648_row0_col6\" class=\"data row0 col6\" >1.0000</td>\n",
              "      <td id=\"T_f8648_row0_col7\" class=\"data row0 col7\" >1.0000</td>\n",
              "      <td id=\"T_f8648_row0_col8\" class=\"data row0 col8\" >0.3620</td>\n",
              "    </tr>\n",
              "    <tr>\n",
              "      <th id=\"T_f8648_level0_row1\" class=\"row_heading level0 row1\" >rf</th>\n",
              "      <td id=\"T_f8648_row1_col0\" class=\"data row1 col0\" >Random Forest Classifier</td>\n",
              "      <td id=\"T_f8648_row1_col1\" class=\"data row1 col1\" >1.0000</td>\n",
              "      <td id=\"T_f8648_row1_col2\" class=\"data row1 col2\" >1.0000</td>\n",
              "      <td id=\"T_f8648_row1_col3\" class=\"data row1 col3\" >1.0000</td>\n",
              "      <td id=\"T_f8648_row1_col4\" class=\"data row1 col4\" >1.0000</td>\n",
              "      <td id=\"T_f8648_row1_col5\" class=\"data row1 col5\" >1.0000</td>\n",
              "      <td id=\"T_f8648_row1_col6\" class=\"data row1 col6\" >1.0000</td>\n",
              "      <td id=\"T_f8648_row1_col7\" class=\"data row1 col7\" >1.0000</td>\n",
              "      <td id=\"T_f8648_row1_col8\" class=\"data row1 col8\" >6.8980</td>\n",
              "    </tr>\n",
              "    <tr>\n",
              "      <th id=\"T_f8648_level0_row2\" class=\"row_heading level0 row2\" >et</th>\n",
              "      <td id=\"T_f8648_row2_col0\" class=\"data row2 col0\" >Extra Trees Classifier</td>\n",
              "      <td id=\"T_f8648_row2_col1\" class=\"data row2 col1\" >1.0000</td>\n",
              "      <td id=\"T_f8648_row2_col2\" class=\"data row2 col2\" >1.0000</td>\n",
              "      <td id=\"T_f8648_row2_col3\" class=\"data row2 col3\" >0.9998</td>\n",
              "      <td id=\"T_f8648_row2_col4\" class=\"data row2 col4\" >1.0000</td>\n",
              "      <td id=\"T_f8648_row2_col5\" class=\"data row2 col5\" >0.9999</td>\n",
              "      <td id=\"T_f8648_row2_col6\" class=\"data row2 col6\" >0.9999</td>\n",
              "      <td id=\"T_f8648_row2_col7\" class=\"data row2 col7\" >0.9999</td>\n",
              "      <td id=\"T_f8648_row2_col8\" class=\"data row2 col8\" >5.0160</td>\n",
              "    </tr>\n",
              "    <tr>\n",
              "      <th id=\"T_f8648_level0_row3\" class=\"row_heading level0 row3\" >xgboost</th>\n",
              "      <td id=\"T_f8648_row3_col0\" class=\"data row3 col0\" >Extreme Gradient Boosting</td>\n",
              "      <td id=\"T_f8648_row3_col1\" class=\"data row3 col1\" >1.0000</td>\n",
              "      <td id=\"T_f8648_row3_col2\" class=\"data row3 col2\" >1.0000</td>\n",
              "      <td id=\"T_f8648_row3_col3\" class=\"data row3 col3\" >1.0000</td>\n",
              "      <td id=\"T_f8648_row3_col4\" class=\"data row3 col4\" >1.0000</td>\n",
              "      <td id=\"T_f8648_row3_col5\" class=\"data row3 col5\" >1.0000</td>\n",
              "      <td id=\"T_f8648_row3_col6\" class=\"data row3 col6\" >1.0000</td>\n",
              "      <td id=\"T_f8648_row3_col7\" class=\"data row3 col7\" >1.0000</td>\n",
              "      <td id=\"T_f8648_row3_col8\" class=\"data row3 col8\" >4.3470</td>\n",
              "    </tr>\n",
              "    <tr>\n",
              "      <th id=\"T_f8648_level0_row4\" class=\"row_heading level0 row4\" >catboost</th>\n",
              "      <td id=\"T_f8648_row4_col0\" class=\"data row4 col0\" >CatBoost Classifier</td>\n",
              "      <td id=\"T_f8648_row4_col1\" class=\"data row4 col1\" >1.0000</td>\n",
              "      <td id=\"T_f8648_row4_col2\" class=\"data row4 col2\" >1.0000</td>\n",
              "      <td id=\"T_f8648_row4_col3\" class=\"data row4 col3\" >1.0000</td>\n",
              "      <td id=\"T_f8648_row4_col4\" class=\"data row4 col4\" >1.0000</td>\n",
              "      <td id=\"T_f8648_row4_col5\" class=\"data row4 col5\" >1.0000</td>\n",
              "      <td id=\"T_f8648_row4_col6\" class=\"data row4 col6\" >1.0000</td>\n",
              "      <td id=\"T_f8648_row4_col7\" class=\"data row4 col7\" >1.0000</td>\n",
              "      <td id=\"T_f8648_row4_col8\" class=\"data row4 col8\" >20.7360</td>\n",
              "    </tr>\n",
              "    <tr>\n",
              "      <th id=\"T_f8648_level0_row5\" class=\"row_heading level0 row5\" >lightgbm</th>\n",
              "      <td id=\"T_f8648_row5_col0\" class=\"data row5 col0\" >Light Gradient Boosting Machine</td>\n",
              "      <td id=\"T_f8648_row5_col1\" class=\"data row5 col1\" >0.9999</td>\n",
              "      <td id=\"T_f8648_row5_col2\" class=\"data row5 col2\" >1.0000</td>\n",
              "      <td id=\"T_f8648_row5_col3\" class=\"data row5 col3\" >0.9983</td>\n",
              "      <td id=\"T_f8648_row5_col4\" class=\"data row5 col4\" >1.0000</td>\n",
              "      <td id=\"T_f8648_row5_col5\" class=\"data row5 col5\" >0.9991</td>\n",
              "      <td id=\"T_f8648_row5_col6\" class=\"data row5 col6\" >0.9991</td>\n",
              "      <td id=\"T_f8648_row5_col7\" class=\"data row5 col7\" >0.9991</td>\n",
              "      <td id=\"T_f8648_row5_col8\" class=\"data row5 col8\" >1.2100</td>\n",
              "    </tr>\n",
              "    <tr>\n",
              "      <th id=\"T_f8648_level0_row6\" class=\"row_heading level0 row6\" >gbc</th>\n",
              "      <td id=\"T_f8648_row6_col0\" class=\"data row6 col0\" >Gradient Boosting Classifier</td>\n",
              "      <td id=\"T_f8648_row6_col1\" class=\"data row6 col1\" >0.9662</td>\n",
              "      <td id=\"T_f8648_row6_col2\" class=\"data row6 col2\" >0.9931</td>\n",
              "      <td id=\"T_f8648_row6_col3\" class=\"data row6 col3\" >0.5190</td>\n",
              "      <td id=\"T_f8648_row6_col4\" class=\"data row6 col4\" >1.0000</td>\n",
              "      <td id=\"T_f8648_row6_col5\" class=\"data row6 col5\" >0.6832</td>\n",
              "      <td id=\"T_f8648_row6_col6\" class=\"data row6 col6\" >0.6673</td>\n",
              "      <td id=\"T_f8648_row6_col7\" class=\"data row6 col7\" >0.7076</td>\n",
              "      <td id=\"T_f8648_row6_col8\" class=\"data row6 col8\" >13.6740</td>\n",
              "    </tr>\n",
              "    <tr>\n",
              "      <th id=\"T_f8648_level0_row7\" class=\"row_heading level0 row7\" >knn</th>\n",
              "      <td id=\"T_f8648_row7_col0\" class=\"data row7 col0\" >K Neighbors Classifier</td>\n",
              "      <td id=\"T_f8648_row7_col1\" class=\"data row7 col1\" >0.9514</td>\n",
              "      <td id=\"T_f8648_row7_col2\" class=\"data row7 col2\" >0.7251</td>\n",
              "      <td id=\"T_f8648_row7_col3\" class=\"data row7 col3\" >0.3455</td>\n",
              "      <td id=\"T_f8648_row7_col4\" class=\"data row7 col4\" >0.9016</td>\n",
              "      <td id=\"T_f8648_row7_col5\" class=\"data row7 col5\" >0.4995</td>\n",
              "      <td id=\"T_f8648_row7_col6\" class=\"data row7 col6\" >0.4792</td>\n",
              "      <td id=\"T_f8648_row7_col7\" class=\"data row7 col7\" >0.5410</td>\n",
              "      <td id=\"T_f8648_row7_col8\" class=\"data row7 col8\" >5.9490</td>\n",
              "    </tr>\n",
              "    <tr>\n",
              "      <th id=\"T_f8648_level0_row8\" class=\"row_heading level0 row8\" >ada</th>\n",
              "      <td id=\"T_f8648_row8_col0\" class=\"data row8 col0\" >Ada Boost Classifier</td>\n",
              "      <td id=\"T_f8648_row8_col1\" class=\"data row8 col1\" >0.9409</td>\n",
              "      <td id=\"T_f8648_row8_col2\" class=\"data row8 col2\" >0.9605</td>\n",
              "      <td id=\"T_f8648_row8_col3\" class=\"data row8 col3\" >0.2819</td>\n",
              "      <td id=\"T_f8648_row8_col4\" class=\"data row8 col4\" >0.6982</td>\n",
              "      <td id=\"T_f8648_row8_col5\" class=\"data row8 col5\" >0.4012</td>\n",
              "      <td id=\"T_f8648_row8_col6\" class=\"data row8 col6\" >0.3759</td>\n",
              "      <td id=\"T_f8648_row8_col7\" class=\"data row8 col7\" >0.4194</td>\n",
              "      <td id=\"T_f8648_row8_col8\" class=\"data row8 col8\" >3.0460</td>\n",
              "    </tr>\n",
              "    <tr>\n",
              "      <th id=\"T_f8648_level0_row9\" class=\"row_heading level0 row9\" >lr</th>\n",
              "      <td id=\"T_f8648_row9_col0\" class=\"data row9 col0\" >Logistic Regression</td>\n",
              "      <td id=\"T_f8648_row9_col1\" class=\"data row9 col1\" >0.9396</td>\n",
              "      <td id=\"T_f8648_row9_col2\" class=\"data row9 col2\" >0.6999</td>\n",
              "      <td id=\"T_f8648_row9_col3\" class=\"data row9 col3\" >0.1483</td>\n",
              "      <td id=\"T_f8648_row9_col4\" class=\"data row9 col4\" >0.9522</td>\n",
              "      <td id=\"T_f8648_row9_col5\" class=\"data row9 col5\" >0.2566</td>\n",
              "      <td id=\"T_f8648_row9_col6\" class=\"data row9 col6\" >0.2423</td>\n",
              "      <td id=\"T_f8648_row9_col7\" class=\"data row9 col7\" >0.3629</td>\n",
              "      <td id=\"T_f8648_row9_col8\" class=\"data row9 col8\" >5.4010</td>\n",
              "    </tr>\n",
              "    <tr>\n",
              "      <th id=\"T_f8648_level0_row10\" class=\"row_heading level0 row10\" >ridge</th>\n",
              "      <td id=\"T_f8648_row10_col0\" class=\"data row10 col0\" >Ridge Classifier</td>\n",
              "      <td id=\"T_f8648_row10_col1\" class=\"data row10 col1\" >0.9394</td>\n",
              "      <td id=\"T_f8648_row10_col2\" class=\"data row10 col2\" >0.0000</td>\n",
              "      <td id=\"T_f8648_row10_col3\" class=\"data row10 col3\" >0.1391</td>\n",
              "      <td id=\"T_f8648_row10_col4\" class=\"data row10 col4\" >0.9854</td>\n",
              "      <td id=\"T_f8648_row10_col5\" class=\"data row10 col5\" >0.2437</td>\n",
              "      <td id=\"T_f8648_row10_col6\" class=\"data row10 col6\" >0.2303</td>\n",
              "      <td id=\"T_f8648_row10_col7\" class=\"data row10 col7\" >0.3582</td>\n",
              "      <td id=\"T_f8648_row10_col8\" class=\"data row10 col8\" >0.1080</td>\n",
              "    </tr>\n",
              "    <tr>\n",
              "      <th id=\"T_f8648_level0_row11\" class=\"row_heading level0 row11\" >lda</th>\n",
              "      <td id=\"T_f8648_row11_col0\" class=\"data row11 col0\" >Linear Discriminant Analysis</td>\n",
              "      <td id=\"T_f8648_row11_col1\" class=\"data row11 col1\" >0.9382</td>\n",
              "      <td id=\"T_f8648_row11_col2\" class=\"data row11 col2\" >0.9290</td>\n",
              "      <td id=\"T_f8648_row11_col3\" class=\"data row11 col3\" >0.2675</td>\n",
              "      <td id=\"T_f8648_row11_col4\" class=\"data row11 col4\" >0.6463</td>\n",
              "      <td id=\"T_f8648_row11_col5\" class=\"data row11 col5\" >0.3783</td>\n",
              "      <td id=\"T_f8648_row11_col6\" class=\"data row11 col6\" >0.3516</td>\n",
              "      <td id=\"T_f8648_row11_col7\" class=\"data row11 col7\" >0.3900</td>\n",
              "      <td id=\"T_f8648_row11_col8\" class=\"data row11 col8\" >0.5600</td>\n",
              "    </tr>\n",
              "    <tr>\n",
              "      <th id=\"T_f8648_level0_row12\" class=\"row_heading level0 row12\" >svm</th>\n",
              "      <td id=\"T_f8648_row12_col0\" class=\"data row12 col0\" >SVM - Linear Kernel</td>\n",
              "      <td id=\"T_f8648_row12_col1\" class=\"data row12 col1\" >0.9291</td>\n",
              "      <td id=\"T_f8648_row12_col2\" class=\"data row12 col2\" >0.0000</td>\n",
              "      <td id=\"T_f8648_row12_col3\" class=\"data row12 col3\" >0.1647</td>\n",
              "      <td id=\"T_f8648_row12_col4\" class=\"data row12 col4\" >0.7452</td>\n",
              "      <td id=\"T_f8648_row12_col5\" class=\"data row12 col5\" >0.2423</td>\n",
              "      <td id=\"T_f8648_row12_col6\" class=\"data row12 col6\" >0.2188</td>\n",
              "      <td id=\"T_f8648_row12_col7\" class=\"data row12 col7\" >0.3032</td>\n",
              "      <td id=\"T_f8648_row12_col8\" class=\"data row12 col8\" >5.9260</td>\n",
              "    </tr>\n",
              "    <tr>\n",
              "      <th id=\"T_f8648_level0_row13\" class=\"row_heading level0 row13\" >nb</th>\n",
              "      <td id=\"T_f8648_row13_col0\" class=\"data row13 col0\" >Naive Bayes</td>\n",
              "      <td id=\"T_f8648_row13_col1\" class=\"data row13 col1\" >0.9290</td>\n",
              "      <td id=\"T_f8648_row13_col2\" class=\"data row13 col2\" >0.6799</td>\n",
              "      <td id=\"T_f8648_row13_col3\" class=\"data row13 col3\" >0.1781</td>\n",
              "      <td id=\"T_f8648_row13_col4\" class=\"data row13 col4\" >0.4857</td>\n",
              "      <td id=\"T_f8648_row13_col5\" class=\"data row13 col5\" >0.2605</td>\n",
              "      <td id=\"T_f8648_row13_col6\" class=\"data row13 col6\" >0.2316</td>\n",
              "      <td id=\"T_f8648_row13_col7\" class=\"data row13 col7\" >0.2643</td>\n",
              "      <td id=\"T_f8648_row13_col8\" class=\"data row13 col8\" >0.0820</td>\n",
              "    </tr>\n",
              "    <tr>\n",
              "      <th id=\"T_f8648_level0_row14\" class=\"row_heading level0 row14\" >qda</th>\n",
              "      <td id=\"T_f8648_row14_col0\" class=\"data row14 col0\" >Quadratic Discriminant Analysis</td>\n",
              "      <td id=\"T_f8648_row14_col1\" class=\"data row14 col1\" >0.8737</td>\n",
              "      <td id=\"T_f8648_row14_col2\" class=\"data row14 col2\" >0.6282</td>\n",
              "      <td id=\"T_f8648_row14_col3\" class=\"data row14 col3\" >0.3425</td>\n",
              "      <td id=\"T_f8648_row14_col4\" class=\"data row14 col4\" >0.2114</td>\n",
              "      <td id=\"T_f8648_row14_col5\" class=\"data row14 col5\" >0.2376</td>\n",
              "      <td id=\"T_f8648_row14_col6\" class=\"data row14 col6\" >0.1814</td>\n",
              "      <td id=\"T_f8648_row14_col7\" class=\"data row14 col7\" >0.1994</td>\n",
              "      <td id=\"T_f8648_row14_col8\" class=\"data row14 col8\" >0.5070</td>\n",
              "    </tr>\n",
              "  </tbody>\n",
              "</table>\n"
            ],
            "text/plain": [
              "<pandas.io.formats.style.Styler at 0x1b5b889bb20>"
            ]
          },
          "metadata": {
            "tags": []
          }
        }
      ]
    },
    {
      "cell_type": "code",
      "metadata": {
        "colab": {
          "base_uri": "https://localhost:8080/"
        },
        "id": "KhSKtAzS_jIy",
        "outputId": "1841d7a8-e75b-40f3-e4c1-6fc749e5aecd"
      },
      "source": [
        "best"
      ],
      "execution_count": null,
      "outputs": [
        {
          "output_type": "execute_result",
          "data": {
            "text/plain": [
              "DecisionTreeClassifier(ccp_alpha=0.0, class_weight=None, criterion='gini',\n",
              "                       max_depth=None, max_features=None, max_leaf_nodes=None,\n",
              "                       min_impurity_decrease=0.0, min_impurity_split=None,\n",
              "                       min_samples_leaf=1, min_samples_split=2,\n",
              "                       min_weight_fraction_leaf=0.0, presort='deprecated',\n",
              "                       random_state=121, splitter='best')"
            ]
          },
          "metadata": {
            "tags": []
          },
          "execution_count": 42
        }
      ]
    },
    {
      "cell_type": "code",
      "metadata": {
        "colab": {
          "base_uri": "https://localhost:8080/",
          "height": 835
        },
        "id": "5fF7z2rA1zGJ",
        "outputId": "86a5a4e8-1022-497c-a37a-7da6505b8235"
      },
      "source": [
        "Decision_Tree = create_model('dt')"
      ],
      "execution_count": null,
      "outputs": [
        {
          "output_type": "display_data",
          "data": {
            "text/html": [
              "<style type=\"text/css\">\n",
              "#T_7668c_row10_col0, #T_7668c_row10_col1, #T_7668c_row10_col2, #T_7668c_row10_col3, #T_7668c_row10_col4, #T_7668c_row10_col5, #T_7668c_row10_col6 {\n",
              "  background: yellow;\n",
              "}\n",
              "</style>\n",
              "<table id=\"T_7668c_\">\n",
              "  <thead>\n",
              "    <tr>\n",
              "      <th class=\"blank level0\" >&nbsp;</th>\n",
              "      <th class=\"col_heading level0 col0\" >Accuracy</th>\n",
              "      <th class=\"col_heading level0 col1\" >AUC</th>\n",
              "      <th class=\"col_heading level0 col2\" >Recall</th>\n",
              "      <th class=\"col_heading level0 col3\" >Prec.</th>\n",
              "      <th class=\"col_heading level0 col4\" >F1</th>\n",
              "      <th class=\"col_heading level0 col5\" >Kappa</th>\n",
              "      <th class=\"col_heading level0 col6\" >MCC</th>\n",
              "    </tr>\n",
              "  </thead>\n",
              "  <tbody>\n",
              "    <tr>\n",
              "      <th id=\"T_7668c_level0_row0\" class=\"row_heading level0 row0\" >0</th>\n",
              "      <td id=\"T_7668c_row0_col0\" class=\"data row0 col0\" >1.0000</td>\n",
              "      <td id=\"T_7668c_row0_col1\" class=\"data row0 col1\" >1.0000</td>\n",
              "      <td id=\"T_7668c_row0_col2\" class=\"data row0 col2\" >1.0000</td>\n",
              "      <td id=\"T_7668c_row0_col3\" class=\"data row0 col3\" >1.0000</td>\n",
              "      <td id=\"T_7668c_row0_col4\" class=\"data row0 col4\" >1.0000</td>\n",
              "      <td id=\"T_7668c_row0_col5\" class=\"data row0 col5\" >1.0000</td>\n",
              "      <td id=\"T_7668c_row0_col6\" class=\"data row0 col6\" >1.0000</td>\n",
              "    </tr>\n",
              "    <tr>\n",
              "      <th id=\"T_7668c_level0_row1\" class=\"row_heading level0 row1\" >1</th>\n",
              "      <td id=\"T_7668c_row1_col0\" class=\"data row1 col0\" >1.0000</td>\n",
              "      <td id=\"T_7668c_row1_col1\" class=\"data row1 col1\" >1.0000</td>\n",
              "      <td id=\"T_7668c_row1_col2\" class=\"data row1 col2\" >1.0000</td>\n",
              "      <td id=\"T_7668c_row1_col3\" class=\"data row1 col3\" >1.0000</td>\n",
              "      <td id=\"T_7668c_row1_col4\" class=\"data row1 col4\" >1.0000</td>\n",
              "      <td id=\"T_7668c_row1_col5\" class=\"data row1 col5\" >1.0000</td>\n",
              "      <td id=\"T_7668c_row1_col6\" class=\"data row1 col6\" >1.0000</td>\n",
              "    </tr>\n",
              "    <tr>\n",
              "      <th id=\"T_7668c_level0_row2\" class=\"row_heading level0 row2\" >2</th>\n",
              "      <td id=\"T_7668c_row2_col0\" class=\"data row2 col0\" >1.0000</td>\n",
              "      <td id=\"T_7668c_row2_col1\" class=\"data row2 col1\" >1.0000</td>\n",
              "      <td id=\"T_7668c_row2_col2\" class=\"data row2 col2\" >1.0000</td>\n",
              "      <td id=\"T_7668c_row2_col3\" class=\"data row2 col3\" >1.0000</td>\n",
              "      <td id=\"T_7668c_row2_col4\" class=\"data row2 col4\" >1.0000</td>\n",
              "      <td id=\"T_7668c_row2_col5\" class=\"data row2 col5\" >1.0000</td>\n",
              "      <td id=\"T_7668c_row2_col6\" class=\"data row2 col6\" >1.0000</td>\n",
              "    </tr>\n",
              "    <tr>\n",
              "      <th id=\"T_7668c_level0_row3\" class=\"row_heading level0 row3\" >3</th>\n",
              "      <td id=\"T_7668c_row3_col0\" class=\"data row3 col0\" >1.0000</td>\n",
              "      <td id=\"T_7668c_row3_col1\" class=\"data row3 col1\" >1.0000</td>\n",
              "      <td id=\"T_7668c_row3_col2\" class=\"data row3 col2\" >1.0000</td>\n",
              "      <td id=\"T_7668c_row3_col3\" class=\"data row3 col3\" >1.0000</td>\n",
              "      <td id=\"T_7668c_row3_col4\" class=\"data row3 col4\" >1.0000</td>\n",
              "      <td id=\"T_7668c_row3_col5\" class=\"data row3 col5\" >1.0000</td>\n",
              "      <td id=\"T_7668c_row3_col6\" class=\"data row3 col6\" >1.0000</td>\n",
              "    </tr>\n",
              "    <tr>\n",
              "      <th id=\"T_7668c_level0_row4\" class=\"row_heading level0 row4\" >4</th>\n",
              "      <td id=\"T_7668c_row4_col0\" class=\"data row4 col0\" >1.0000</td>\n",
              "      <td id=\"T_7668c_row4_col1\" class=\"data row4 col1\" >1.0000</td>\n",
              "      <td id=\"T_7668c_row4_col2\" class=\"data row4 col2\" >1.0000</td>\n",
              "      <td id=\"T_7668c_row4_col3\" class=\"data row4 col3\" >1.0000</td>\n",
              "      <td id=\"T_7668c_row4_col4\" class=\"data row4 col4\" >1.0000</td>\n",
              "      <td id=\"T_7668c_row4_col5\" class=\"data row4 col5\" >1.0000</td>\n",
              "      <td id=\"T_7668c_row4_col6\" class=\"data row4 col6\" >1.0000</td>\n",
              "    </tr>\n",
              "    <tr>\n",
              "      <th id=\"T_7668c_level0_row5\" class=\"row_heading level0 row5\" >5</th>\n",
              "      <td id=\"T_7668c_row5_col0\" class=\"data row5 col0\" >1.0000</td>\n",
              "      <td id=\"T_7668c_row5_col1\" class=\"data row5 col1\" >1.0000</td>\n",
              "      <td id=\"T_7668c_row5_col2\" class=\"data row5 col2\" >1.0000</td>\n",
              "      <td id=\"T_7668c_row5_col3\" class=\"data row5 col3\" >1.0000</td>\n",
              "      <td id=\"T_7668c_row5_col4\" class=\"data row5 col4\" >1.0000</td>\n",
              "      <td id=\"T_7668c_row5_col5\" class=\"data row5 col5\" >1.0000</td>\n",
              "      <td id=\"T_7668c_row5_col6\" class=\"data row5 col6\" >1.0000</td>\n",
              "    </tr>\n",
              "    <tr>\n",
              "      <th id=\"T_7668c_level0_row6\" class=\"row_heading level0 row6\" >6</th>\n",
              "      <td id=\"T_7668c_row6_col0\" class=\"data row6 col0\" >1.0000</td>\n",
              "      <td id=\"T_7668c_row6_col1\" class=\"data row6 col1\" >1.0000</td>\n",
              "      <td id=\"T_7668c_row6_col2\" class=\"data row6 col2\" >1.0000</td>\n",
              "      <td id=\"T_7668c_row6_col3\" class=\"data row6 col3\" >1.0000</td>\n",
              "      <td id=\"T_7668c_row6_col4\" class=\"data row6 col4\" >1.0000</td>\n",
              "      <td id=\"T_7668c_row6_col5\" class=\"data row6 col5\" >1.0000</td>\n",
              "      <td id=\"T_7668c_row6_col6\" class=\"data row6 col6\" >1.0000</td>\n",
              "    </tr>\n",
              "    <tr>\n",
              "      <th id=\"T_7668c_level0_row7\" class=\"row_heading level0 row7\" >7</th>\n",
              "      <td id=\"T_7668c_row7_col0\" class=\"data row7 col0\" >1.0000</td>\n",
              "      <td id=\"T_7668c_row7_col1\" class=\"data row7 col1\" >1.0000</td>\n",
              "      <td id=\"T_7668c_row7_col2\" class=\"data row7 col2\" >1.0000</td>\n",
              "      <td id=\"T_7668c_row7_col3\" class=\"data row7 col3\" >1.0000</td>\n",
              "      <td id=\"T_7668c_row7_col4\" class=\"data row7 col4\" >1.0000</td>\n",
              "      <td id=\"T_7668c_row7_col5\" class=\"data row7 col5\" >1.0000</td>\n",
              "      <td id=\"T_7668c_row7_col6\" class=\"data row7 col6\" >1.0000</td>\n",
              "    </tr>\n",
              "    <tr>\n",
              "      <th id=\"T_7668c_level0_row8\" class=\"row_heading level0 row8\" >8</th>\n",
              "      <td id=\"T_7668c_row8_col0\" class=\"data row8 col0\" >1.0000</td>\n",
              "      <td id=\"T_7668c_row8_col1\" class=\"data row8 col1\" >1.0000</td>\n",
              "      <td id=\"T_7668c_row8_col2\" class=\"data row8 col2\" >1.0000</td>\n",
              "      <td id=\"T_7668c_row8_col3\" class=\"data row8 col3\" >1.0000</td>\n",
              "      <td id=\"T_7668c_row8_col4\" class=\"data row8 col4\" >1.0000</td>\n",
              "      <td id=\"T_7668c_row8_col5\" class=\"data row8 col5\" >1.0000</td>\n",
              "      <td id=\"T_7668c_row8_col6\" class=\"data row8 col6\" >1.0000</td>\n",
              "    </tr>\n",
              "    <tr>\n",
              "      <th id=\"T_7668c_level0_row9\" class=\"row_heading level0 row9\" >9</th>\n",
              "      <td id=\"T_7668c_row9_col0\" class=\"data row9 col0\" >1.0000</td>\n",
              "      <td id=\"T_7668c_row9_col1\" class=\"data row9 col1\" >1.0000</td>\n",
              "      <td id=\"T_7668c_row9_col2\" class=\"data row9 col2\" >1.0000</td>\n",
              "      <td id=\"T_7668c_row9_col3\" class=\"data row9 col3\" >1.0000</td>\n",
              "      <td id=\"T_7668c_row9_col4\" class=\"data row9 col4\" >1.0000</td>\n",
              "      <td id=\"T_7668c_row9_col5\" class=\"data row9 col5\" >1.0000</td>\n",
              "      <td id=\"T_7668c_row9_col6\" class=\"data row9 col6\" >1.0000</td>\n",
              "    </tr>\n",
              "    <tr>\n",
              "      <th id=\"T_7668c_level0_row10\" class=\"row_heading level0 row10\" >Mean</th>\n",
              "      <td id=\"T_7668c_row10_col0\" class=\"data row10 col0\" >1.0000</td>\n",
              "      <td id=\"T_7668c_row10_col1\" class=\"data row10 col1\" >1.0000</td>\n",
              "      <td id=\"T_7668c_row10_col2\" class=\"data row10 col2\" >1.0000</td>\n",
              "      <td id=\"T_7668c_row10_col3\" class=\"data row10 col3\" >1.0000</td>\n",
              "      <td id=\"T_7668c_row10_col4\" class=\"data row10 col4\" >1.0000</td>\n",
              "      <td id=\"T_7668c_row10_col5\" class=\"data row10 col5\" >1.0000</td>\n",
              "      <td id=\"T_7668c_row10_col6\" class=\"data row10 col6\" >1.0000</td>\n",
              "    </tr>\n",
              "    <tr>\n",
              "      <th id=\"T_7668c_level0_row11\" class=\"row_heading level0 row11\" >SD</th>\n",
              "      <td id=\"T_7668c_row11_col0\" class=\"data row11 col0\" >0.0000</td>\n",
              "      <td id=\"T_7668c_row11_col1\" class=\"data row11 col1\" >0.0000</td>\n",
              "      <td id=\"T_7668c_row11_col2\" class=\"data row11 col2\" >0.0000</td>\n",
              "      <td id=\"T_7668c_row11_col3\" class=\"data row11 col3\" >0.0000</td>\n",
              "      <td id=\"T_7668c_row11_col4\" class=\"data row11 col4\" >0.0000</td>\n",
              "      <td id=\"T_7668c_row11_col5\" class=\"data row11 col5\" >0.0000</td>\n",
              "      <td id=\"T_7668c_row11_col6\" class=\"data row11 col6\" >0.0000</td>\n",
              "    </tr>\n",
              "  </tbody>\n",
              "</table>\n"
            ],
            "text/plain": [
              "<pandas.io.formats.style.Styler at 0x1b5dfca7e80>"
            ]
          },
          "metadata": {
            "tags": []
          }
        }
      ]
    },
    {
      "cell_type": "code",
      "metadata": {
        "id": "-0bnUc3_2BbC"
      },
      "source": [
        "final_dt = finalize_model(Decision_Tree)"
      ],
      "execution_count": null,
      "outputs": []
    },
    {
      "cell_type": "code",
      "metadata": {
        "id": "aIz4VFDxA9Zj",
        "outputId": "788d374f-2de5-426d-883f-214d9e5d9bc1"
      },
      "source": [
        "plot_model(Decision_Tree, plot = 'auc')"
      ],
      "execution_count": null,
      "outputs": [
        {
          "output_type": "display_data",
          "data": {
            "image/png": "[encoded data removed]",
            "text/plain": [
              "<Figure size 576x396 with 1 Axes>"
            ]
          },
          "metadata": {
            "tags": []
          }
        }
      ]
    },
    {
      "cell_type": "code",
      "metadata": {
        "id": "qhcsO9AHA-CW",
        "outputId": "6e7c8105-830d-496d-9583-6df377c6b96c"
      },
      "source": [
        "plot_model(Decision_Tree, plot = 'pr')"
      ],
      "execution_count": null,
      "outputs": [
        {
          "output_type": "display_data",
          "data": {
            "image/png": "[encoded data removed]",
            "text/plain": [
              "<Figure size 576x396 with 1 Axes>"
            ]
          },
          "metadata": {
            "tags": []
          }
        }
      ]
    },
    {
      "cell_type": "code",
      "metadata": {
        "id": "x2X-cTq2BAR2",
        "outputId": "23f88a8a-2aa1-4e6e-bf45-c83fb50e3364"
      },
      "source": [
        "plot_model(Decision_Tree, plot = 'confusion_matrix')"
      ],
      "execution_count": null,
      "outputs": [
        {
          "output_type": "display_data",
          "data": {
            "image/png": "[encoded data removed]",
            "text/plain": [
              "<Figure size 576x396 with 1 Axes>"
            ]
          },
          "metadata": {
            "tags": []
          }
        }
      ]
    },
    {
      "cell_type": "code",
      "metadata": {
        "id": "UxEWr9eWBYyU",
        "outputId": "b8ad41ea-92a7-494c-a424-e78e6369982e"
      },
      "source": [
        "tuned_gbc = tune_model(best)"
      ],
      "execution_count": null,
      "outputs": [
        {
          "output_type": "display_data",
          "data": {
            "text/html": [
              "<style type=\"text/css\">\n",
              "#T_ad2f7_row10_col0, #T_ad2f7_row10_col1, #T_ad2f7_row10_col2, #T_ad2f7_row10_col3, #T_ad2f7_row10_col4, #T_ad2f7_row10_col5, #T_ad2f7_row10_col6 {\n",
              "  background: yellow;\n",
              "}\n",
              "</style>\n",
              "<table id=\"T_ad2f7_\">\n",
              "  <thead>\n",
              "    <tr>\n",
              "      <th class=\"blank level0\" >&nbsp;</th>\n",
              "      <th class=\"col_heading level0 col0\" >Accuracy</th>\n",
              "      <th class=\"col_heading level0 col1\" >AUC</th>\n",
              "      <th class=\"col_heading level0 col2\" >Recall</th>\n",
              "      <th class=\"col_heading level0 col3\" >Prec.</th>\n",
              "      <th class=\"col_heading level0 col4\" >F1</th>\n",
              "      <th class=\"col_heading level0 col5\" >Kappa</th>\n",
              "      <th class=\"col_heading level0 col6\" >MCC</th>\n",
              "    </tr>\n",
              "  </thead>\n",
              "  <tbody>\n",
              "    <tr>\n",
              "      <th id=\"T_ad2f7_level0_row0\" class=\"row_heading level0 row0\" >0</th>\n",
              "      <td id=\"T_ad2f7_row0_col0\" class=\"data row0 col0\" >0.9728</td>\n",
              "      <td id=\"T_ad2f7_row0_col1\" class=\"data row0 col1\" >0.9875</td>\n",
              "      <td id=\"T_ad2f7_row0_col2\" class=\"data row0 col2\" >0.6225</td>\n",
              "      <td id=\"T_ad2f7_row0_col3\" class=\"data row0 col3\" >0.9840</td>\n",
              "      <td id=\"T_ad2f7_row0_col4\" class=\"data row0 col4\" >0.7626</td>\n",
              "      <td id=\"T_ad2f7_row0_col5\" class=\"data row0 col5\" >0.7489</td>\n",
              "      <td id=\"T_ad2f7_row0_col6\" class=\"data row0 col6\" >0.7710</td>\n",
              "    </tr>\n",
              "    <tr>\n",
              "      <th id=\"T_ad2f7_level0_row1\" class=\"row_heading level0 row1\" >1</th>\n",
              "      <td id=\"T_ad2f7_row1_col0\" class=\"data row1 col0\" >0.9737</td>\n",
              "      <td id=\"T_ad2f7_row1_col1\" class=\"data row1 col1\" >0.9881</td>\n",
              "      <td id=\"T_ad2f7_row1_col2\" class=\"data row1 col2\" >0.6336</td>\n",
              "      <td id=\"T_ad2f7_row1_col3\" class=\"data row1 col3\" >0.9880</td>\n",
              "      <td id=\"T_ad2f7_row1_col4\" class=\"data row1 col4\" >0.7720</td>\n",
              "      <td id=\"T_ad2f7_row1_col5\" class=\"data row1 col5\" >0.7588</td>\n",
              "      <td id=\"T_ad2f7_row1_col6\" class=\"data row1 col6\" >0.7799</td>\n",
              "    </tr>\n",
              "    <tr>\n",
              "      <th id=\"T_ad2f7_level0_row2\" class=\"row_heading level0 row2\" >2</th>\n",
              "      <td id=\"T_ad2f7_row2_col0\" class=\"data row2 col0\" >0.9738</td>\n",
              "      <td id=\"T_ad2f7_row2_col1\" class=\"data row2 col1\" >0.9878</td>\n",
              "      <td id=\"T_ad2f7_row2_col2\" class=\"data row2 col2\" >0.6307</td>\n",
              "      <td id=\"T_ad2f7_row2_col3\" class=\"data row2 col3\" >0.9939</td>\n",
              "      <td id=\"T_ad2f7_row2_col4\" class=\"data row2 col4\" >0.7717</td>\n",
              "      <td id=\"T_ad2f7_row2_col5\" class=\"data row2 col5\" >0.7585</td>\n",
              "      <td id=\"T_ad2f7_row2_col6\" class=\"data row2 col6\" >0.7807</td>\n",
              "    </tr>\n",
              "    <tr>\n",
              "      <th id=\"T_ad2f7_level0_row3\" class=\"row_heading level0 row3\" >3</th>\n",
              "      <td id=\"T_ad2f7_row3_col0\" class=\"data row3 col0\" >0.9715</td>\n",
              "      <td id=\"T_ad2f7_row3_col1\" class=\"data row3 col1\" >0.9874</td>\n",
              "      <td id=\"T_ad2f7_row3_col2\" class=\"data row3 col2\" >0.6167</td>\n",
              "      <td id=\"T_ad2f7_row3_col3\" class=\"data row3 col3\" >0.9653</td>\n",
              "      <td id=\"T_ad2f7_row3_col4\" class=\"data row3 col4\" >0.7526</td>\n",
              "      <td id=\"T_ad2f7_row3_col5\" class=\"data row3 col5\" >0.7382</td>\n",
              "      <td id=\"T_ad2f7_row3_col6\" class=\"data row3 col6\" >0.7591</td>\n",
              "    </tr>\n",
              "    <tr>\n",
              "      <th id=\"T_ad2f7_level0_row4\" class=\"row_heading level0 row4\" >4</th>\n",
              "      <td id=\"T_ad2f7_row4_col0\" class=\"data row4 col0\" >0.9748</td>\n",
              "      <td id=\"T_ad2f7_row4_col1\" class=\"data row4 col1\" >0.9890</td>\n",
              "      <td id=\"T_ad2f7_row4_col2\" class=\"data row4 col2\" >0.6606</td>\n",
              "      <td id=\"T_ad2f7_row4_col3\" class=\"data row4 col3\" >0.9716</td>\n",
              "      <td id=\"T_ad2f7_row4_col4\" class=\"data row4 col4\" >0.7865</td>\n",
              "      <td id=\"T_ad2f7_row4_col5\" class=\"data row4 col5\" >0.7736</td>\n",
              "      <td id=\"T_ad2f7_row4_col6\" class=\"data row4 col6\" >0.7899</td>\n",
              "    </tr>\n",
              "    <tr>\n",
              "      <th id=\"T_ad2f7_level0_row5\" class=\"row_heading level0 row5\" >5</th>\n",
              "      <td id=\"T_ad2f7_row5_col0\" class=\"data row5 col0\" >0.9734</td>\n",
              "      <td id=\"T_ad2f7_row5_col1\" class=\"data row5 col1\" >0.9883</td>\n",
              "      <td id=\"T_ad2f7_row5_col2\" class=\"data row5 col2\" >0.6283</td>\n",
              "      <td id=\"T_ad2f7_row5_col3\" class=\"data row5 col3\" >0.9901</td>\n",
              "      <td id=\"T_ad2f7_row5_col4\" class=\"data row5 col4\" >0.7687</td>\n",
              "      <td id=\"T_ad2f7_row5_col5\" class=\"data row5 col5\" >0.7554</td>\n",
              "      <td id=\"T_ad2f7_row5_col6\" class=\"data row5 col6\" >0.7774</td>\n",
              "    </tr>\n",
              "    <tr>\n",
              "      <th id=\"T_ad2f7_level0_row6\" class=\"row_heading level0 row6\" >6</th>\n",
              "      <td id=\"T_ad2f7_row6_col0\" class=\"data row6 col0\" >0.9723</td>\n",
              "      <td id=\"T_ad2f7_row6_col1\" class=\"data row6 col1\" >0.9870</td>\n",
              "      <td id=\"T_ad2f7_row6_col2\" class=\"data row6 col2\" >0.6119</td>\n",
              "      <td id=\"T_ad2f7_row6_col3\" class=\"data row6 col3\" >0.9899</td>\n",
              "      <td id=\"T_ad2f7_row6_col4\" class=\"data row6 col4\" >0.7563</td>\n",
              "      <td id=\"T_ad2f7_row6_col5\" class=\"data row6 col5\" >0.7424</td>\n",
              "      <td id=\"T_ad2f7_row6_col6\" class=\"data row6 col6\" >0.7666</td>\n",
              "    </tr>\n",
              "    <tr>\n",
              "      <th id=\"T_ad2f7_level0_row7\" class=\"row_heading level0 row7\" >7</th>\n",
              "      <td id=\"T_ad2f7_row7_col0\" class=\"data row7 col0\" >0.9730</td>\n",
              "      <td id=\"T_ad2f7_row7_col1\" class=\"data row7 col1\" >0.9876</td>\n",
              "      <td id=\"T_ad2f7_row7_col2\" class=\"data row7 col2\" >0.6283</td>\n",
              "      <td id=\"T_ad2f7_row7_col3\" class=\"data row7 col3\" >0.9797</td>\n",
              "      <td id=\"T_ad2f7_row7_col4\" class=\"data row7 col4\" >0.7656</td>\n",
              "      <td id=\"T_ad2f7_row7_col5\" class=\"data row7 col5\" >0.7519</td>\n",
              "      <td id=\"T_ad2f7_row7_col6\" class=\"data row7 col6\" >0.7729</td>\n",
              "    </tr>\n",
              "    <tr>\n",
              "      <th id=\"T_ad2f7_level0_row8\" class=\"row_heading level0 row8\" >8</th>\n",
              "      <td id=\"T_ad2f7_row8_col0\" class=\"data row8 col0\" >0.9733</td>\n",
              "      <td id=\"T_ad2f7_row8_col1\" class=\"data row8 col1\" >0.9886</td>\n",
              "      <td id=\"T_ad2f7_row8_col2\" class=\"data row8 col2\" >0.6218</td>\n",
              "      <td id=\"T_ad2f7_row8_col3\" class=\"data row8 col3\" >0.9961</td>\n",
              "      <td id=\"T_ad2f7_row8_col4\" class=\"data row8 col4\" >0.7657</td>\n",
              "      <td id=\"T_ad2f7_row8_col5\" class=\"data row8 col5\" >0.7523</td>\n",
              "      <td id=\"T_ad2f7_row8_col6\" class=\"data row8 col6\" >0.7759</td>\n",
              "    </tr>\n",
              "    <tr>\n",
              "      <th id=\"T_ad2f7_level0_row9\" class=\"row_heading level0 row9\" >9</th>\n",
              "      <td id=\"T_ad2f7_row9_col0\" class=\"data row9 col0\" >0.9738</td>\n",
              "      <td id=\"T_ad2f7_row9_col1\" class=\"data row9 col1\" >0.9879</td>\n",
              "      <td id=\"T_ad2f7_row9_col2\" class=\"data row9 col2\" >0.6271</td>\n",
              "      <td id=\"T_ad2f7_row9_col3\" class=\"data row9 col3\" >1.0000</td>\n",
              "      <td id=\"T_ad2f7_row9_col4\" class=\"data row9 col4\" >0.7708</td>\n",
              "      <td id=\"T_ad2f7_row9_col5\" class=\"data row9 col5\" >0.7577</td>\n",
              "      <td id=\"T_ad2f7_row9_col6\" class=\"data row9 col6\" >0.7810</td>\n",
              "    </tr>\n",
              "    <tr>\n",
              "      <th id=\"T_ad2f7_level0_row10\" class=\"row_heading level0 row10\" >Mean</th>\n",
              "      <td id=\"T_ad2f7_row10_col0\" class=\"data row10 col0\" >0.9732</td>\n",
              "      <td id=\"T_ad2f7_row10_col1\" class=\"data row10 col1\" >0.9879</td>\n",
              "      <td id=\"T_ad2f7_row10_col2\" class=\"data row10 col2\" >0.6281</td>\n",
              "      <td id=\"T_ad2f7_row10_col3\" class=\"data row10 col3\" >0.9859</td>\n",
              "      <td id=\"T_ad2f7_row10_col4\" class=\"data row10 col4\" >0.7672</td>\n",
              "      <td id=\"T_ad2f7_row10_col5\" class=\"data row10 col5\" >0.7538</td>\n",
              "      <td id=\"T_ad2f7_row10_col6\" class=\"data row10 col6\" >0.7754</td>\n",
              "    </tr>\n",
              "    <tr>\n",
              "      <th id=\"T_ad2f7_level0_row11\" class=\"row_heading level0 row11\" >SD</th>\n",
              "      <td id=\"T_ad2f7_row11_col0\" class=\"data row11 col0\" >0.0009</td>\n",
              "      <td id=\"T_ad2f7_row11_col1\" class=\"data row11 col1\" >0.0006</td>\n",
              "      <td id=\"T_ad2f7_row11_col2\" class=\"data row11 col2\" >0.0125</td>\n",
              "      <td id=\"T_ad2f7_row11_col3\" class=\"data row11 col3\" >0.0104</td>\n",
              "      <td id=\"T_ad2f7_row11_col4\" class=\"data row11 col4\" >0.0089</td>\n",
              "      <td id=\"T_ad2f7_row11_col5\" class=\"data row11 col5\" >0.0093</td>\n",
              "      <td id=\"T_ad2f7_row11_col6\" class=\"data row11 col6\" >0.0081</td>\n",
              "    </tr>\n",
              "  </tbody>\n",
              "</table>\n"
            ],
            "text/plain": [
              "<pandas.io.formats.style.Styler at 0x1b5beb94130>"
            ]
          },
          "metadata": {
            "tags": []
          }
        }
      ]
    },
    {
      "cell_type": "code",
      "metadata": {
        "id": "AxGrS8KVCU9v",
        "outputId": "0eba9502-ce83-43be-fc26-9a9e12ffd015"
      },
      "source": [
        "plot_model(tuned_gbc, plot = 'confusion_matrix')"
      ],
      "execution_count": null,
      "outputs": [
        {
          "output_type": "display_data",
          "data": {
            "image/png": "[encoded data removed]",
            "text/plain": [
              "<Figure size 576x396 with 1 Axes>"
            ]
          },
          "metadata": {
            "tags": []
          }
        }
      ]
    },
    {
      "cell_type": "code",
      "metadata": {
        "colab": {
          "base_uri": "https://localhost:8080/"
        },
        "id": "urTIblD0fcNN",
        "outputId": "99ca5d99-2dcb-4519-8099-c159fb9c736e"
      },
      "source": [
        "tdf.columns"
      ],
      "execution_count": null,
      "outputs": [
        {
          "output_type": "execute_result",
          "data": {
            "text/plain": [
              "Index(['Store', 'Dept', 'Weekly_Sales', 'IsHoliday', 'Temperature',\n",
              "       'Fuel_Price', 'MarkDown1', 'MarkDown2', 'MarkDown3', 'MarkDown4',\n",
              "       'MarkDown5', 'CPI', 'Unemployment', 'Type', 'Size', 'Month', 'Year'],\n",
              "      dtype='object')"
            ]
          },
          "metadata": {
            "tags": []
          },
          "execution_count": 15
        }
      ]
    },
    {
      "cell_type": "code",
      "metadata": {
        "id": "XobtfjzU2fo9"
      },
      "source": [
        "tdf = train.merge(features, 'left').merge(stores, 'left') "
      ],
      "execution_count": null,
      "outputs": []
    },
    {
      "cell_type": "code",
      "metadata": {
        "colab": {
          "base_uri": "https://localhost:8080/",
          "height": 422
        },
        "id": "0VlRNQXAGmHp",
        "outputId": "1c74daa9-6104-484f-ec01-9427c447a3a2"
      },
      "source": [
        "from pycaret.regression import *\n",
        "from datetime import datetime\n",
        "\n",
        "tdf['IsHoliday'] = [\"True\" if i else 'False' for i in tdf['IsHoliday']]\n",
        "tdf['DateTime'] = [datetime.strptime(i, '%Y-%m-%d') for i in tdf['Date']]\n",
        "tdf['Month'] = [i.month for i in tdf['DateTime']]\n",
        "tdf['Year'] = [i.year for i in tdf['DateTime']]\n",
        "tdf.drop(['DateTime', 'Date'], axis = 1, inplace=True)\n",
        "tdf\n"
      ],
      "execution_count": null,
      "outputs": [
        {
          "output_type": "execute_result",
          "data": {
            "text/html": [
              "<div>\n",
              "<style scoped>\n",
              "    .dataframe tbody tr th:only-of-type {\n",
              "        vertical-align: middle;\n",
              "    }\n",
              "\n",
              "    .dataframe tbody tr th {\n",
              "        vertical-align: top;\n",
              "    }\n",
              "\n",
              "    .dataframe thead th {\n",
              "        text-align: right;\n",
              "    }\n",
              "</style>\n",
              "<table border=\"1\" class=\"dataframe\">\n",
              "  <thead>\n",
              "    <tr style=\"text-align: right;\">\n",
              "      <th></th>\n",
              "      <th>Store</th>\n",
              "      <th>Dept</th>\n",
              "      <th>Weekly_Sales</th>\n",
              "      <th>IsHoliday</th>\n",
              "      <th>Temperature</th>\n",
              "      <th>Fuel_Price</th>\n",
              "      <th>MarkDown1</th>\n",
              "      <th>MarkDown2</th>\n",
              "      <th>MarkDown3</th>\n",
              "      <th>MarkDown4</th>\n",
              "      <th>MarkDown5</th>\n",
              "      <th>CPI</th>\n",
              "      <th>Unemployment</th>\n",
              "      <th>Type</th>\n",
              "      <th>Size</th>\n",
              "      <th>Month</th>\n",
              "      <th>Year</th>\n",
              "    </tr>\n",
              "  </thead>\n",
              "  <tbody>\n",
              "    <tr>\n",
              "      <th>0</th>\n",
              "      <td>1</td>\n",
              "      <td>1</td>\n",
              "      <td>24924.50</td>\n",
              "      <td>False</td>\n",
              "      <td>42.31</td>\n",
              "      <td>2.572</td>\n",
              "      <td>NaN</td>\n",
              "      <td>NaN</td>\n",
              "      <td>NaN</td>\n",
              "      <td>NaN</td>\n",
              "      <td>NaN</td>\n",
              "      <td>211.096358</td>\n",
              "      <td>8.106</td>\n",
              "      <td>A</td>\n",
              "      <td>151315</td>\n",
              "      <td>2</td>\n",
              "      <td>2010</td>\n",
              "    </tr>\n",
              "    <tr>\n",
              "      <th>1</th>\n",
              "      <td>1</td>\n",
              "      <td>1</td>\n",
              "      <td>46039.49</td>\n",
              "      <td>True</td>\n",
              "      <td>38.51</td>\n",
              "      <td>2.548</td>\n",
              "      <td>NaN</td>\n",
              "      <td>NaN</td>\n",
              "      <td>NaN</td>\n",
              "      <td>NaN</td>\n",
              "      <td>NaN</td>\n",
              "      <td>211.242170</td>\n",
              "      <td>8.106</td>\n",
              "      <td>A</td>\n",
              "      <td>151315</td>\n",
              "      <td>2</td>\n",
              "      <td>2010</td>\n",
              "    </tr>\n",
              "    <tr>\n",
              "      <th>2</th>\n",
              "      <td>1</td>\n",
              "      <td>1</td>\n",
              "      <td>41595.55</td>\n",
              "      <td>False</td>\n",
              "      <td>39.93</td>\n",
              "      <td>2.514</td>\n",
              "      <td>NaN</td>\n",
              "      <td>NaN</td>\n",
              "      <td>NaN</td>\n",
              "      <td>NaN</td>\n",
              "      <td>NaN</td>\n",
              "      <td>211.289143</td>\n",
              "      <td>8.106</td>\n",
              "      <td>A</td>\n",
              "      <td>151315</td>\n",
              "      <td>2</td>\n",
              "      <td>2010</td>\n",
              "    </tr>\n",
              "    <tr>\n",
              "      <th>3</th>\n",
              "      <td>1</td>\n",
              "      <td>1</td>\n",
              "      <td>19403.54</td>\n",
              "      <td>False</td>\n",
              "      <td>46.63</td>\n",
              "      <td>2.561</td>\n",
              "      <td>NaN</td>\n",
              "      <td>NaN</td>\n",
              "      <td>NaN</td>\n",
              "      <td>NaN</td>\n",
              "      <td>NaN</td>\n",
              "      <td>211.319643</td>\n",
              "      <td>8.106</td>\n",
              "      <td>A</td>\n",
              "      <td>151315</td>\n",
              "      <td>2</td>\n",
              "      <td>2010</td>\n",
              "    </tr>\n",
              "    <tr>\n",
              "      <th>4</th>\n",
              "      <td>1</td>\n",
              "      <td>1</td>\n",
              "      <td>21827.90</td>\n",
              "      <td>False</td>\n",
              "      <td>46.50</td>\n",
              "      <td>2.625</td>\n",
              "      <td>NaN</td>\n",
              "      <td>NaN</td>\n",
              "      <td>NaN</td>\n",
              "      <td>NaN</td>\n",
              "      <td>NaN</td>\n",
              "      <td>211.350143</td>\n",
              "      <td>8.106</td>\n",
              "      <td>A</td>\n",
              "      <td>151315</td>\n",
              "      <td>3</td>\n",
              "      <td>2010</td>\n",
              "    </tr>\n",
              "    <tr>\n",
              "      <th>...</th>\n",
              "      <td>...</td>\n",
              "      <td>...</td>\n",
              "      <td>...</td>\n",
              "      <td>...</td>\n",
              "      <td>...</td>\n",
              "      <td>...</td>\n",
              "      <td>...</td>\n",
              "      <td>...</td>\n",
              "      <td>...</td>\n",
              "      <td>...</td>\n",
              "      <td>...</td>\n",
              "      <td>...</td>\n",
              "      <td>...</td>\n",
              "      <td>...</td>\n",
              "      <td>...</td>\n",
              "      <td>...</td>\n",
              "      <td>...</td>\n",
              "    </tr>\n",
              "    <tr>\n",
              "      <th>421565</th>\n",
              "      <td>45</td>\n",
              "      <td>98</td>\n",
              "      <td>508.37</td>\n",
              "      <td>False</td>\n",
              "      <td>64.88</td>\n",
              "      <td>3.997</td>\n",
              "      <td>4556.61</td>\n",
              "      <td>20.64</td>\n",
              "      <td>1.50</td>\n",
              "      <td>1601.01</td>\n",
              "      <td>3288.25</td>\n",
              "      <td>192.013558</td>\n",
              "      <td>8.684</td>\n",
              "      <td>B</td>\n",
              "      <td>118221</td>\n",
              "      <td>9</td>\n",
              "      <td>2012</td>\n",
              "    </tr>\n",
              "    <tr>\n",
              "      <th>421566</th>\n",
              "      <td>45</td>\n",
              "      <td>98</td>\n",
              "      <td>628.10</td>\n",
              "      <td>False</td>\n",
              "      <td>64.89</td>\n",
              "      <td>3.985</td>\n",
              "      <td>5046.74</td>\n",
              "      <td>NaN</td>\n",
              "      <td>18.82</td>\n",
              "      <td>2253.43</td>\n",
              "      <td>2340.01</td>\n",
              "      <td>192.170412</td>\n",
              "      <td>8.667</td>\n",
              "      <td>B</td>\n",
              "      <td>118221</td>\n",
              "      <td>10</td>\n",
              "      <td>2012</td>\n",
              "    </tr>\n",
              "    <tr>\n",
              "      <th>421567</th>\n",
              "      <td>45</td>\n",
              "      <td>98</td>\n",
              "      <td>1061.02</td>\n",
              "      <td>False</td>\n",
              "      <td>54.47</td>\n",
              "      <td>4.000</td>\n",
              "      <td>1956.28</td>\n",
              "      <td>NaN</td>\n",
              "      <td>7.89</td>\n",
              "      <td>599.32</td>\n",
              "      <td>3990.54</td>\n",
              "      <td>192.327265</td>\n",
              "      <td>8.667</td>\n",
              "      <td>B</td>\n",
              "      <td>118221</td>\n",
              "      <td>10</td>\n",
              "      <td>2012</td>\n",
              "    </tr>\n",
              "    <tr>\n",
              "      <th>421568</th>\n",
              "      <td>45</td>\n",
              "      <td>98</td>\n",
              "      <td>760.01</td>\n",
              "      <td>False</td>\n",
              "      <td>56.47</td>\n",
              "      <td>3.969</td>\n",
              "      <td>2004.02</td>\n",
              "      <td>NaN</td>\n",
              "      <td>3.18</td>\n",
              "      <td>437.73</td>\n",
              "      <td>1537.49</td>\n",
              "      <td>192.330854</td>\n",
              "      <td>8.667</td>\n",
              "      <td>B</td>\n",
              "      <td>118221</td>\n",
              "      <td>10</td>\n",
              "      <td>2012</td>\n",
              "    </tr>\n",
              "    <tr>\n",
              "      <th>421569</th>\n",
              "      <td>45</td>\n",
              "      <td>98</td>\n",
              "      <td>1076.80</td>\n",
              "      <td>False</td>\n",
              "      <td>58.85</td>\n",
              "      <td>3.882</td>\n",
              "      <td>4018.91</td>\n",
              "      <td>58.08</td>\n",
              "      <td>100.00</td>\n",
              "      <td>211.94</td>\n",
              "      <td>858.33</td>\n",
              "      <td>192.308899</td>\n",
              "      <td>8.667</td>\n",
              "      <td>B</td>\n",
              "      <td>118221</td>\n",
              "      <td>10</td>\n",
              "      <td>2012</td>\n",
              "    </tr>\n",
              "  </tbody>\n",
              "</table>\n",
              "<p>421570 rows × 17 columns</p>\n",
              "</div>"
            ],
            "text/plain": [
              "        Store  Dept  Weekly_Sales IsHoliday  Temperature  Fuel_Price  \\\n",
              "0           1     1      24924.50     False        42.31       2.572   \n",
              "1           1     1      46039.49      True        38.51       2.548   \n",
              "2           1     1      41595.55     False        39.93       2.514   \n",
              "3           1     1      19403.54     False        46.63       2.561   \n",
              "4           1     1      21827.90     False        46.50       2.625   \n",
              "...       ...   ...           ...       ...          ...         ...   \n",
              "421565     45    98        508.37     False        64.88       3.997   \n",
              "421566     45    98        628.10     False        64.89       3.985   \n",
              "421567     45    98       1061.02     False        54.47       4.000   \n",
              "421568     45    98        760.01     False        56.47       3.969   \n",
              "421569     45    98       1076.80     False        58.85       3.882   \n",
              "\n",
              "        MarkDown1  MarkDown2  MarkDown3  MarkDown4  MarkDown5         CPI  \\\n",
              "0             NaN        NaN        NaN        NaN        NaN  211.096358   \n",
              "1             NaN        NaN        NaN        NaN        NaN  211.242170   \n",
              "2             NaN        NaN        NaN        NaN        NaN  211.289143   \n",
              "3             NaN        NaN        NaN        NaN        NaN  211.319643   \n",
              "4             NaN        NaN        NaN        NaN        NaN  211.350143   \n",
              "...           ...        ...        ...        ...        ...         ...   \n",
              "421565    4556.61      20.64       1.50    1601.01    3288.25  192.013558   \n",
              "421566    5046.74        NaN      18.82    2253.43    2340.01  192.170412   \n",
              "421567    1956.28        NaN       7.89     599.32    3990.54  192.327265   \n",
              "421568    2004.02        NaN       3.18     437.73    1537.49  192.330854   \n",
              "421569    4018.91      58.08     100.00     211.94     858.33  192.308899   \n",
              "\n",
              "        Unemployment Type    Size  Month  Year  \n",
              "0              8.106    A  151315      2  2010  \n",
              "1              8.106    A  151315      2  2010  \n",
              "2              8.106    A  151315      2  2010  \n",
              "3              8.106    A  151315      2  2010  \n",
              "4              8.106    A  151315      3  2010  \n",
              "...              ...  ...     ...    ...   ...  \n",
              "421565         8.684    B  118221      9  2012  \n",
              "421566         8.667    B  118221     10  2012  \n",
              "421567         8.667    B  118221     10  2012  \n",
              "421568         8.667    B  118221     10  2012  \n",
              "421569         8.667    B  118221     10  2012  \n",
              "\n",
              "[421570 rows x 17 columns]"
            ]
          },
          "metadata": {
            "tags": []
          },
          "execution_count": 4
        }
      ]
    },
    {
      "cell_type": "code",
      "metadata": {
        "colab": {
          "base_uri": "https://localhost:8080/"
        },
        "id": "BJ7lqI0Xp6PG",
        "outputId": "632797dd-2e72-4835-dc62-07a057d009ca"
      },
      "source": [
        "tdf.dtypes"
      ],
      "execution_count": null,
      "outputs": [
        {
          "output_type": "execute_result",
          "data": {
            "text/plain": [
              "Store             int64\n",
              "Dept              int64\n",
              "Date             object\n",
              "Weekly_Sales    float64\n",
              "IsHoliday          bool\n",
              "Temperature     float64\n",
              "Fuel_Price      float64\n",
              "MarkDown1       float64\n",
              "MarkDown2       float64\n",
              "MarkDown3       float64\n",
              "MarkDown4       float64\n",
              "MarkDown5       float64\n",
              "CPI             float64\n",
              "Unemployment    float64\n",
              "Type             object\n",
              "Size              int64\n",
              "dtype: object"
            ]
          },
          "metadata": {
            "tags": []
          },
          "execution_count": 47
        }
      ]
    },
    {
      "cell_type": "code",
      "metadata": {
        "colab": {
          "base_uri": "https://localhost:8080/",
          "height": 1000
        },
        "id": "eU8qxTDefcNO",
        "outputId": "2be4f548-e38e-4da4-b797-a04ad6e1e6f3"
      },
      "source": [
        "setup_holiday = setup(data = tdf, target = 'Weekly_Sales', categorical_features= ['Type', 'IsHoliday'],ignore_features=['Size'], fold_strategy = 'timeseries', numeric_features = ['Year'], session_id=121, normalize = True)"
      ],
      "execution_count": null,
      "outputs": [
        {
          "output_type": "display_data",
          "data": {
            "text/html": [
              "<div>\n",
              "<style scoped>\n",
              "    .dataframe tbody tr th:only-of-type {\n",
              "        vertical-align: middle;\n",
              "    }\n",
              "\n",
              "    .dataframe tbody tr th {\n",
              "        vertical-align: top;\n",
              "    }\n",
              "\n",
              "    .dataframe thead th {\n",
              "        text-align: right;\n",
              "    }\n",
              "</style>\n",
              "<table border=\"1\" class=\"dataframe\">\n",
              "  <thead>\n",
              "    <tr style=\"text-align: right;\">\n",
              "      <th></th>\n",
              "      <th>Description</th>\n",
              "      <th>Value</th>\n",
              "    </tr>\n",
              "  </thead>\n",
              "  <tbody>\n",
              "    <tr>\n",
              "      <th>0</th>\n",
              "      <td>session_id</td>\n",
              "      <td>121</td>\n",
              "    </tr>\n",
              "    <tr>\n",
              "      <th>1</th>\n",
              "      <td>Target</td>\n",
              "      <td>Weekly_Sales</td>\n",
              "    </tr>\n",
              "    <tr>\n",
              "      <th>2</th>\n",
              "      <td>Original Data</td>\n",
              "      <td>(421570, 17)</td>\n",
              "    </tr>\n",
              "    <tr>\n",
              "      <th>3</th>\n",
              "      <td>Missing Values</td>\n",
              "      <td>True</td>\n",
              "    </tr>\n",
              "    <tr>\n",
              "      <th>4</th>\n",
              "      <td>Numeric Features</td>\n",
              "      <td>12</td>\n",
              "    </tr>\n",
              "    <tr>\n",
              "      <th>5</th>\n",
              "      <td>Categorical Features</td>\n",
              "      <td>2</td>\n",
              "    </tr>\n",
              "    <tr>\n",
              "      <th>6</th>\n",
              "      <td>Ordinal Features</td>\n",
              "      <td>False</td>\n",
              "    </tr>\n",
              "    <tr>\n",
              "      <th>7</th>\n",
              "      <td>High Cardinality Features</td>\n",
              "      <td>False</td>\n",
              "    </tr>\n",
              "    <tr>\n",
              "      <th>8</th>\n",
              "      <td>High Cardinality Method</td>\n",
              "      <td>None</td>\n",
              "    </tr>\n",
              "    <tr>\n",
              "      <th>9</th>\n",
              "      <td>Transformed Train Set</td>\n",
              "      <td>(295098, 27)</td>\n",
              "    </tr>\n",
              "    <tr>\n",
              "      <th>10</th>\n",
              "      <td>Transformed Test Set</td>\n",
              "      <td>(126472, 27)</td>\n",
              "    </tr>\n",
              "    <tr>\n",
              "      <th>11</th>\n",
              "      <td>Shuffle Train-Test</td>\n",
              "      <td>True</td>\n",
              "    </tr>\n",
              "    <tr>\n",
              "      <th>12</th>\n",
              "      <td>Stratify Train-Test</td>\n",
              "      <td>False</td>\n",
              "    </tr>\n",
              "    <tr>\n",
              "      <th>13</th>\n",
              "      <td>Fold Generator</td>\n",
              "      <td>TimeSeriesSplit</td>\n",
              "    </tr>\n",
              "    <tr>\n",
              "      <th>14</th>\n",
              "      <td>Fold Number</td>\n",
              "      <td>10</td>\n",
              "    </tr>\n",
              "    <tr>\n",
              "      <th>15</th>\n",
              "      <td>CPU Jobs</td>\n",
              "      <td>-1</td>\n",
              "    </tr>\n",
              "    <tr>\n",
              "      <th>16</th>\n",
              "      <td>Use GPU</td>\n",
              "      <td>False</td>\n",
              "    </tr>\n",
              "    <tr>\n",
              "      <th>17</th>\n",
              "      <td>Log Experiment</td>\n",
              "      <td>False</td>\n",
              "    </tr>\n",
              "    <tr>\n",
              "      <th>18</th>\n",
              "      <td>Experiment Name</td>\n",
              "      <td>reg-default-name</td>\n",
              "    </tr>\n",
              "    <tr>\n",
              "      <th>19</th>\n",
              "      <td>USI</td>\n",
              "      <td>299d</td>\n",
              "    </tr>\n",
              "    <tr>\n",
              "      <th>20</th>\n",
              "      <td>Imputation Type</td>\n",
              "      <td>simple</td>\n",
              "    </tr>\n",
              "    <tr>\n",
              "      <th>21</th>\n",
              "      <td>Iterative Imputation Iteration</td>\n",
              "      <td>None</td>\n",
              "    </tr>\n",
              "    <tr>\n",
              "      <th>22</th>\n",
              "      <td>Numeric Imputer</td>\n",
              "      <td>mean</td>\n",
              "    </tr>\n",
              "    <tr>\n",
              "      <th>23</th>\n",
              "      <td>Iterative Imputation Numeric Model</td>\n",
              "      <td>None</td>\n",
              "    </tr>\n",
              "    <tr>\n",
              "      <th>24</th>\n",
              "      <td>Categorical Imputer</td>\n",
              "      <td>constant</td>\n",
              "    </tr>\n",
              "    <tr>\n",
              "      <th>25</th>\n",
              "      <td>Iterative Imputation Categorical Model</td>\n",
              "      <td>None</td>\n",
              "    </tr>\n",
              "    <tr>\n",
              "      <th>26</th>\n",
              "      <td>Unknown Categoricals Handling</td>\n",
              "      <td>least_frequent</td>\n",
              "    </tr>\n",
              "    <tr>\n",
              "      <th>27</th>\n",
              "      <td>Normalize</td>\n",
              "      <td>True</td>\n",
              "    </tr>\n",
              "    <tr>\n",
              "      <th>28</th>\n",
              "      <td>Normalize Method</td>\n",
              "      <td>zscore</td>\n",
              "    </tr>\n",
              "    <tr>\n",
              "      <th>29</th>\n",
              "      <td>Transformation</td>\n",
              "      <td>False</td>\n",
              "    </tr>\n",
              "    <tr>\n",
              "      <th>30</th>\n",
              "      <td>Transformation Method</td>\n",
              "      <td>None</td>\n",
              "    </tr>\n",
              "    <tr>\n",
              "      <th>31</th>\n",
              "      <td>PCA</td>\n",
              "      <td>False</td>\n",
              "    </tr>\n",
              "    <tr>\n",
              "      <th>32</th>\n",
              "      <td>PCA Method</td>\n",
              "      <td>None</td>\n",
              "    </tr>\n",
              "    <tr>\n",
              "      <th>33</th>\n",
              "      <td>PCA Components</td>\n",
              "      <td>None</td>\n",
              "    </tr>\n",
              "    <tr>\n",
              "      <th>34</th>\n",
              "      <td>Ignore Low Variance</td>\n",
              "      <td>False</td>\n",
              "    </tr>\n",
              "    <tr>\n",
              "      <th>35</th>\n",
              "      <td>Combine Rare Levels</td>\n",
              "      <td>False</td>\n",
              "    </tr>\n",
              "    <tr>\n",
              "      <th>36</th>\n",
              "      <td>Rare Level Threshold</td>\n",
              "      <td>None</td>\n",
              "    </tr>\n",
              "    <tr>\n",
              "      <th>37</th>\n",
              "      <td>Numeric Binning</td>\n",
              "      <td>False</td>\n",
              "    </tr>\n",
              "    <tr>\n",
              "      <th>38</th>\n",
              "      <td>Remove Outliers</td>\n",
              "      <td>False</td>\n",
              "    </tr>\n",
              "    <tr>\n",
              "      <th>39</th>\n",
              "      <td>Outliers Threshold</td>\n",
              "      <td>None</td>\n",
              "    </tr>\n",
              "    <tr>\n",
              "      <th>40</th>\n",
              "      <td>Remove Multicollinearity</td>\n",
              "      <td>False</td>\n",
              "    </tr>\n",
              "    <tr>\n",
              "      <th>41</th>\n",
              "      <td>Multicollinearity Threshold</td>\n",
              "      <td>None</td>\n",
              "    </tr>\n",
              "    <tr>\n",
              "      <th>42</th>\n",
              "      <td>Remove Perfect Collinearity</td>\n",
              "      <td>True</td>\n",
              "    </tr>\n",
              "    <tr>\n",
              "      <th>43</th>\n",
              "      <td>Clustering</td>\n",
              "      <td>False</td>\n",
              "    </tr>\n",
              "    <tr>\n",
              "      <th>44</th>\n",
              "      <td>Clustering Iteration</td>\n",
              "      <td>None</td>\n",
              "    </tr>\n",
              "    <tr>\n",
              "      <th>45</th>\n",
              "      <td>Polynomial Features</td>\n",
              "      <td>False</td>\n",
              "    </tr>\n",
              "    <tr>\n",
              "      <th>46</th>\n",
              "      <td>Polynomial Degree</td>\n",
              "      <td>None</td>\n",
              "    </tr>\n",
              "    <tr>\n",
              "      <th>47</th>\n",
              "      <td>Trignometry Features</td>\n",
              "      <td>False</td>\n",
              "    </tr>\n",
              "    <tr>\n",
              "      <th>48</th>\n",
              "      <td>Polynomial Threshold</td>\n",
              "      <td>None</td>\n",
              "    </tr>\n",
              "    <tr>\n",
              "      <th>49</th>\n",
              "      <td>Group Features</td>\n",
              "      <td>False</td>\n",
              "    </tr>\n",
              "    <tr>\n",
              "      <th>50</th>\n",
              "      <td>Feature Selection</td>\n",
              "      <td>False</td>\n",
              "    </tr>\n",
              "    <tr>\n",
              "      <th>51</th>\n",
              "      <td>Feature Selection Method</td>\n",
              "      <td>classic</td>\n",
              "    </tr>\n",
              "    <tr>\n",
              "      <th>52</th>\n",
              "      <td>Features Selection Threshold</td>\n",
              "      <td>None</td>\n",
              "    </tr>\n",
              "    <tr>\n",
              "      <th>53</th>\n",
              "      <td>Feature Interaction</td>\n",
              "      <td>False</td>\n",
              "    </tr>\n",
              "    <tr>\n",
              "      <th>54</th>\n",
              "      <td>Feature Ratio</td>\n",
              "      <td>False</td>\n",
              "    </tr>\n",
              "    <tr>\n",
              "      <th>55</th>\n",
              "      <td>Interaction Threshold</td>\n",
              "      <td>None</td>\n",
              "    </tr>\n",
              "    <tr>\n",
              "      <th>56</th>\n",
              "      <td>Transform Target</td>\n",
              "      <td>False</td>\n",
              "    </tr>\n",
              "    <tr>\n",
              "      <th>57</th>\n",
              "      <td>Transform Target Method</td>\n",
              "      <td>box-cox</td>\n",
              "    </tr>\n",
              "  </tbody>\n",
              "</table>\n",
              "</div>"
            ],
            "text/plain": [
              "                               Description             Value\n",
              "0                               session_id               121\n",
              "1                                   Target      Weekly_Sales\n",
              "2                            Original Data      (421570, 17)\n",
              "3                           Missing Values              True\n",
              "4                         Numeric Features                12\n",
              "5                     Categorical Features                 2\n",
              "6                         Ordinal Features             False\n",
              "7                High Cardinality Features             False\n",
              "8                  High Cardinality Method              None\n",
              "9                    Transformed Train Set      (295098, 27)\n",
              "10                    Transformed Test Set      (126472, 27)\n",
              "11                      Shuffle Train-Test              True\n",
              "12                     Stratify Train-Test             False\n",
              "13                          Fold Generator   TimeSeriesSplit\n",
              "14                             Fold Number                10\n",
              "15                                CPU Jobs                -1\n",
              "16                                 Use GPU             False\n",
              "17                          Log Experiment             False\n",
              "18                         Experiment Name  reg-default-name\n",
              "19                                     USI              299d\n",
              "20                         Imputation Type            simple\n",
              "21          Iterative Imputation Iteration              None\n",
              "22                         Numeric Imputer              mean\n",
              "23      Iterative Imputation Numeric Model              None\n",
              "24                     Categorical Imputer          constant\n",
              "25  Iterative Imputation Categorical Model              None\n",
              "26           Unknown Categoricals Handling    least_frequent\n",
              "27                               Normalize              True\n",
              "28                        Normalize Method            zscore\n",
              "29                          Transformation             False\n",
              "30                   Transformation Method              None\n",
              "31                                     PCA             False\n",
              "32                              PCA Method              None\n",
              "33                          PCA Components              None\n",
              "34                     Ignore Low Variance             False\n",
              "35                     Combine Rare Levels             False\n",
              "36                    Rare Level Threshold              None\n",
              "37                         Numeric Binning             False\n",
              "38                         Remove Outliers             False\n",
              "39                      Outliers Threshold              None\n",
              "40                Remove Multicollinearity             False\n",
              "41             Multicollinearity Threshold              None\n",
              "42             Remove Perfect Collinearity              True\n",
              "43                              Clustering             False\n",
              "44                    Clustering Iteration              None\n",
              "45                     Polynomial Features             False\n",
              "46                       Polynomial Degree              None\n",
              "47                    Trignometry Features             False\n",
              "48                    Polynomial Threshold              None\n",
              "49                          Group Features             False\n",
              "50                       Feature Selection             False\n",
              "51                Feature Selection Method           classic\n",
              "52            Features Selection Threshold              None\n",
              "53                     Feature Interaction             False\n",
              "54                           Feature Ratio             False\n",
              "55                   Interaction Threshold              None\n",
              "56                        Transform Target             False\n",
              "57                 Transform Target Method           box-cox"
            ]
          },
          "metadata": {
            "tags": []
          }
        }
      ]
    },
    {
      "cell_type": "code",
      "metadata": {
        "colab": {
          "base_uri": "https://localhost:8080/",
          "height": 612
        },
        "id": "-v4WFMYzhuSN",
        "outputId": "fc11f66e-fd0f-4cac-e7e9-6868efbca195"
      },
      "source": [
        "best_model = compare_models(exclude=['et'])\n",
        "# Decision_Tree = create_model('dt')"
      ],
      "execution_count": null,
      "outputs": [
        {
          "output_type": "display_data",
          "data": {
            "text/html": [
              "<div>\n",
              "<style scoped>\n",
              "    .dataframe tbody tr th:only-of-type {\n",
              "        vertical-align: middle;\n",
              "    }\n",
              "\n",
              "    .dataframe tbody tr th {\n",
              "        vertical-align: top;\n",
              "    }\n",
              "\n",
              "    .dataframe thead th {\n",
              "        text-align: right;\n",
              "    }\n",
              "</style>\n",
              "<table border=\"1\" class=\"dataframe\">\n",
              "  <thead>\n",
              "    <tr style=\"text-align: right;\">\n",
              "      <th></th>\n",
              "      <th>Model</th>\n",
              "      <th>MAE</th>\n",
              "      <th>MSE</th>\n",
              "      <th>RMSE</th>\n",
              "      <th>R2</th>\n",
              "      <th>RMSLE</th>\n",
              "      <th>MAPE</th>\n",
              "      <th>TT (Sec)</th>\n",
              "    </tr>\n",
              "  </thead>\n",
              "  <tbody>\n",
              "    <tr>\n",
              "      <th>rf</th>\n",
              "      <td>Random Forest Regressor</td>\n",
              "      <td>2047.5109</td>\n",
              "      <td>3.087596e+07</td>\n",
              "      <td>5522.2315</td>\n",
              "      <td>0.9404</td>\n",
              "      <td>0.6113</td>\n",
              "      <td>9.5185</td>\n",
              "      <td>132.967</td>\n",
              "    </tr>\n",
              "    <tr>\n",
              "      <th>xgboost</th>\n",
              "      <td>Extreme Gradient Boosting</td>\n",
              "      <td>3696.2240</td>\n",
              "      <td>4.678020e+07</td>\n",
              "      <td>6817.6162</td>\n",
              "      <td>0.9096</td>\n",
              "      <td>1.3693</td>\n",
              "      <td>73.2327</td>\n",
              "      <td>28.294</td>\n",
              "    </tr>\n",
              "    <tr>\n",
              "      <th>catboost</th>\n",
              "      <td>CatBoost Regressor</td>\n",
              "      <td>3937.8743</td>\n",
              "      <td>5.011894e+07</td>\n",
              "      <td>7062.1194</td>\n",
              "      <td>0.9031</td>\n",
              "      <td>1.4183</td>\n",
              "      <td>99.4507</td>\n",
              "      <td>33.341</td>\n",
              "    </tr>\n",
              "    <tr>\n",
              "      <th>dt</th>\n",
              "      <td>Decision Tree Regressor</td>\n",
              "      <td>2608.8600</td>\n",
              "      <td>5.461920e+07</td>\n",
              "      <td>7340.2771</td>\n",
              "      <td>0.8944</td>\n",
              "      <td>0.6167</td>\n",
              "      <td>6.3612</td>\n",
              "      <td>2.062</td>\n",
              "    </tr>\n",
              "    <tr>\n",
              "      <th>lightgbm</th>\n",
              "      <td>Light Gradient Boosting Machine</td>\n",
              "      <td>4563.8635</td>\n",
              "      <td>6.350696e+07</td>\n",
              "      <td>7956.8201</td>\n",
              "      <td>0.8772</td>\n",
              "      <td>1.4866</td>\n",
              "      <td>93.5801</td>\n",
              "      <td>1.633</td>\n",
              "    </tr>\n",
              "    <tr>\n",
              "      <th>gbr</th>\n",
              "      <td>Gradient Boosting Regressor</td>\n",
              "      <td>7377.0751</td>\n",
              "      <td>1.501761e+08</td>\n",
              "      <td>12249.2389</td>\n",
              "      <td>0.7094</td>\n",
              "      <td>1.7197</td>\n",
              "      <td>163.0791</td>\n",
              "      <td>26.889</td>\n",
              "    </tr>\n",
              "    <tr>\n",
              "      <th>knn</th>\n",
              "      <td>K Neighbors Regressor</td>\n",
              "      <td>12472.2329</td>\n",
              "      <td>4.076370e+08</td>\n",
              "      <td>20178.9184</td>\n",
              "      <td>0.2106</td>\n",
              "      <td>1.9457</td>\n",
              "      <td>681.5165</td>\n",
              "      <td>48.412</td>\n",
              "    </tr>\n",
              "    <tr>\n",
              "      <th>lr</th>\n",
              "      <td>Linear Regression</td>\n",
              "      <td>14818.3652</td>\n",
              "      <td>4.801689e+08</td>\n",
              "      <td>21911.1621</td>\n",
              "      <td>0.0702</td>\n",
              "      <td>2.2899</td>\n",
              "      <td>522.4473</td>\n",
              "      <td>0.460</td>\n",
              "    </tr>\n",
              "    <tr>\n",
              "      <th>lasso</th>\n",
              "      <td>Lasso Regression</td>\n",
              "      <td>14818.1786</td>\n",
              "      <td>4.801690e+08</td>\n",
              "      <td>21911.1645</td>\n",
              "      <td>0.0702</td>\n",
              "      <td>2.2899</td>\n",
              "      <td>522.5269</td>\n",
              "      <td>1.064</td>\n",
              "    </tr>\n",
              "    <tr>\n",
              "      <th>ridge</th>\n",
              "      <td>Ridge Regression</td>\n",
              "      <td>14818.3661</td>\n",
              "      <td>4.801689e+08</td>\n",
              "      <td>21911.1631</td>\n",
              "      <td>0.0702</td>\n",
              "      <td>2.2899</td>\n",
              "      <td>522.4481</td>\n",
              "      <td>0.066</td>\n",
              "    </tr>\n",
              "    <tr>\n",
              "      <th>br</th>\n",
              "      <td>Bayesian Ridge</td>\n",
              "      <td>14817.8981</td>\n",
              "      <td>4.801656e+08</td>\n",
              "      <td>21911.0875</td>\n",
              "      <td>0.0702</td>\n",
              "      <td>2.2902</td>\n",
              "      <td>522.4407</td>\n",
              "      <td>0.305</td>\n",
              "    </tr>\n",
              "    <tr>\n",
              "      <th>lar</th>\n",
              "      <td>Least Angle Regression</td>\n",
              "      <td>14823.0010</td>\n",
              "      <td>4.803559e+08</td>\n",
              "      <td>21915.4469</td>\n",
              "      <td>0.0699</td>\n",
              "      <td>2.2901</td>\n",
              "      <td>522.3534</td>\n",
              "      <td>0.079</td>\n",
              "    </tr>\n",
              "    <tr>\n",
              "      <th>llar</th>\n",
              "      <td>Lasso Least Angle Regression</td>\n",
              "      <td>14812.6781</td>\n",
              "      <td>4.819725e+08</td>\n",
              "      <td>21952.1276</td>\n",
              "      <td>0.0668</td>\n",
              "      <td>2.2992</td>\n",
              "      <td>520.6497</td>\n",
              "      <td>0.075</td>\n",
              "    </tr>\n",
              "    <tr>\n",
              "      <th>en</th>\n",
              "      <td>Elastic Net</td>\n",
              "      <td>14846.5098</td>\n",
              "      <td>4.879080e+08</td>\n",
              "      <td>22086.8863</td>\n",
              "      <td>0.0553</td>\n",
              "      <td>2.3248</td>\n",
              "      <td>490.1003</td>\n",
              "      <td>0.097</td>\n",
              "    </tr>\n",
              "    <tr>\n",
              "      <th>omp</th>\n",
              "      <td>Orthogonal Matching Pursuit</td>\n",
              "      <td>14931.2807</td>\n",
              "      <td>4.878946e+08</td>\n",
              "      <td>22086.5688</td>\n",
              "      <td>0.0553</td>\n",
              "      <td>2.3175</td>\n",
              "      <td>549.6717</td>\n",
              "      <td>0.073</td>\n",
              "    </tr>\n",
              "    <tr>\n",
              "      <th>huber</th>\n",
              "      <td>Huber Regressor</td>\n",
              "      <td>13234.8147</td>\n",
              "      <td>5.324710e+08</td>\n",
              "      <td>23073.6005</td>\n",
              "      <td>-0.0310</td>\n",
              "      <td>2.0959</td>\n",
              "      <td>280.5502</td>\n",
              "      <td>1.807</td>\n",
              "    </tr>\n",
              "    <tr>\n",
              "      <th>par</th>\n",
              "      <td>Passive Aggressive Regressor</td>\n",
              "      <td>13090.1443</td>\n",
              "      <td>5.589733e+08</td>\n",
              "      <td>23641.0779</td>\n",
              "      <td>-0.0824</td>\n",
              "      <td>2.0110</td>\n",
              "      <td>224.4707</td>\n",
              "      <td>0.534</td>\n",
              "    </tr>\n",
              "    <tr>\n",
              "      <th>ada</th>\n",
              "      <td>AdaBoost Regressor</td>\n",
              "      <td>22379.9548</td>\n",
              "      <td>6.898167e+08</td>\n",
              "      <td>26161.1784</td>\n",
              "      <td>-0.3345</td>\n",
              "      <td>2.6550</td>\n",
              "      <td>1193.6801</td>\n",
              "      <td>14.872</td>\n",
              "    </tr>\n",
              "  </tbody>\n",
              "</table>\n",
              "</div>"
            ],
            "text/plain": [
              "                                    Model         MAE           MSE  \\\n",
              "rf                Random Forest Regressor   2047.5109  3.087596e+07   \n",
              "xgboost         Extreme Gradient Boosting   3696.2240  4.678020e+07   \n",
              "catboost               CatBoost Regressor   3937.8743  5.011894e+07   \n",
              "dt                Decision Tree Regressor   2608.8600  5.461920e+07   \n",
              "lightgbm  Light Gradient Boosting Machine   4563.8635  6.350696e+07   \n",
              "gbr           Gradient Boosting Regressor   7377.0751  1.501761e+08   \n",
              "knn                 K Neighbors Regressor  12472.2329  4.076370e+08   \n",
              "lr                      Linear Regression  14818.3652  4.801689e+08   \n",
              "lasso                    Lasso Regression  14818.1786  4.801690e+08   \n",
              "ridge                    Ridge Regression  14818.3661  4.801689e+08   \n",
              "br                         Bayesian Ridge  14817.8981  4.801656e+08   \n",
              "lar                Least Angle Regression  14823.0010  4.803559e+08   \n",
              "llar         Lasso Least Angle Regression  14812.6781  4.819725e+08   \n",
              "en                            Elastic Net  14846.5098  4.879080e+08   \n",
              "omp           Orthogonal Matching Pursuit  14931.2807  4.878946e+08   \n",
              "huber                     Huber Regressor  13234.8147  5.324710e+08   \n",
              "par          Passive Aggressive Regressor  13090.1443  5.589733e+08   \n",
              "ada                    AdaBoost Regressor  22379.9548  6.898167e+08   \n",
              "\n",
              "                RMSE      R2   RMSLE       MAPE  TT (Sec)  \n",
              "rf         5522.2315  0.9404  0.6113     9.5185   132.967  \n",
              "xgboost    6817.6162  0.9096  1.3693    73.2327    28.294  \n",
              "catboost   7062.1194  0.9031  1.4183    99.4507    33.341  \n",
              "dt         7340.2771  0.8944  0.6167     6.3612     2.062  \n",
              "lightgbm   7956.8201  0.8772  1.4866    93.5801     1.633  \n",
              "gbr       12249.2389  0.7094  1.7197   163.0791    26.889  \n",
              "knn       20178.9184  0.2106  1.9457   681.5165    48.412  \n",
              "lr        21911.1621  0.0702  2.2899   522.4473     0.460  \n",
              "lasso     21911.1645  0.0702  2.2899   522.5269     1.064  \n",
              "ridge     21911.1631  0.0702  2.2899   522.4481     0.066  \n",
              "br        21911.0875  0.0702  2.2902   522.4407     0.305  \n",
              "lar       21915.4469  0.0699  2.2901   522.3534     0.079  \n",
              "llar      21952.1276  0.0668  2.2992   520.6497     0.075  \n",
              "en        22086.8863  0.0553  2.3248   490.1003     0.097  \n",
              "omp       22086.5688  0.0553  2.3175   549.6717     0.073  \n",
              "huber     23073.6005 -0.0310  2.0959   280.5502     1.807  \n",
              "par       23641.0779 -0.0824  2.0110   224.4707     0.534  \n",
              "ada       26161.1784 -0.3345  2.6550  1193.6801    14.872  "
            ]
          },
          "metadata": {
            "tags": []
          }
        }
      ]
    },
    {
      "cell_type": "code",
      "metadata": {
        "colab": {
          "base_uri": "https://localhost:8080/"
        },
        "id": "b6sfPVc1kyvw",
        "outputId": "02ff18ee-408b-483a-cf81-8cfb57c4e52f"
      },
      "source": [
        "print(best_model)"
      ],
      "execution_count": null,
      "outputs": [
        {
          "output_type": "stream",
          "text": [
            "RandomForestRegressor(bootstrap=True, ccp_alpha=0.0, criterion='mse',\n",
            "                      max_depth=None, max_features='auto', max_leaf_nodes=None,\n",
            "                      max_samples=None, min_impurity_decrease=0.0,\n",
            "                      min_impurity_split=None, min_samples_leaf=1,\n",
            "                      min_samples_split=2, min_weight_fraction_leaf=0.0,\n",
            "                      n_estimators=100, n_jobs=-1, oob_score=False,\n",
            "                      random_state=121, verbose=0, warm_start=False)\n"
          ],
          "name": "stdout"
        }
      ]
    },
    {
      "cell_type": "code",
      "metadata": {
        "colab": {
          "base_uri": "https://localhost:8080/",
          "height": 376
        },
        "id": "gauhPDPjBlgk",
        "outputId": "02e8fa23-698d-4801-a065-6b29096bd1f7"
      },
      "source": [
        "plot_model(best_model)"
      ],
      "execution_count": null,
      "outputs": [
        {
          "output_type": "display_data",
          "data": {
            "image/png": "[encoded data removed]",
            "text/plain": [
              "<Figure size 576x396 with 2 Axes>"
            ]
          },
          "metadata": {
            "tags": []
          }
        }
      ]
    },
    {
      "cell_type": "code",
      "metadata": {
        "colab": {
          "base_uri": "https://localhost:8080/",
          "height": 378
        },
        "id": "VBAkSrRfCPKD",
        "outputId": "97f0783f-0889-488b-a957-9fb9d1d84268"
      },
      "source": [
        "plot_model(best_model, plot='error')"
      ],
      "execution_count": null,
      "outputs": [
        {
          "output_type": "display_data",
          "data": {
            "image/png": "[encoded data removed]",
            "text/plain": [
              "<Figure size 576x396 with 1 Axes>"
            ]
          },
          "metadata": {
            "tags": []
          }
        }
      ]
    },
    {
      "cell_type": "code",
      "metadata": {
        "colab": {
          "base_uri": "https://localhost:8080/",
          "height": 678
        },
        "id": "YRY2tobAC6Zp",
        "outputId": "51cb1ad0-6b5e-4b88-e70c-b74316a11bd4"
      },
      "source": [
        "predict_model(best_model)\n"
      ],
      "execution_count": null,
      "outputs": [
        {
          "output_type": "display_data",
          "data": {
            "text/html": [
              "<div>\n",
              "<style scoped>\n",
              "    .dataframe tbody tr th:only-of-type {\n",
              "        vertical-align: middle;\n",
              "    }\n",
              "\n",
              "    .dataframe tbody tr th {\n",
              "        vertical-align: top;\n",
              "    }\n",
              "\n",
              "    .dataframe thead th {\n",
              "        text-align: right;\n",
              "    }\n",
              "</style>\n",
              "<table border=\"1\" class=\"dataframe\">\n",
              "  <thead>\n",
              "    <tr style=\"text-align: right;\">\n",
              "      <th></th>\n",
              "      <th>Model</th>\n",
              "      <th>MAE</th>\n",
              "      <th>MSE</th>\n",
              "      <th>RMSE</th>\n",
              "      <th>R2</th>\n",
              "      <th>RMSLE</th>\n",
              "      <th>MAPE</th>\n",
              "    </tr>\n",
              "  </thead>\n",
              "  <tbody>\n",
              "    <tr>\n",
              "      <th>0</th>\n",
              "      <td>Random Forest Regressor</td>\n",
              "      <td>1715.5984</td>\n",
              "      <td>2.282081e+07</td>\n",
              "      <td>4777.113</td>\n",
              "      <td>0.9555</td>\n",
              "      <td>0.4722</td>\n",
              "      <td>3.3255</td>\n",
              "    </tr>\n",
              "  </tbody>\n",
              "</table>\n",
              "</div>"
            ],
            "text/plain": [
              "                     Model        MAE           MSE  ...      R2   RMSLE    MAPE\n",
              "0  Random Forest Regressor  1715.5984  2.282081e+07  ...  0.9555  0.4722  3.3255\n",
              "\n",
              "[1 rows x 7 columns]"
            ]
          },
          "metadata": {
            "tags": []
          }
        },
        {
          "output_type": "execute_result",
          "data": {
            "text/html": [
              "<div>\n",
              "<style scoped>\n",
              "    .dataframe tbody tr th:only-of-type {\n",
              "        vertical-align: middle;\n",
              "    }\n",
              "\n",
              "    .dataframe tbody tr th {\n",
              "        vertical-align: top;\n",
              "    }\n",
              "\n",
              "    .dataframe thead th {\n",
              "        text-align: right;\n",
              "    }\n",
              "</style>\n",
              "<table border=\"1\" class=\"dataframe\">\n",
              "  <thead>\n",
              "    <tr style=\"text-align: right;\">\n",
              "      <th></th>\n",
              "      <th>Store</th>\n",
              "      <th>Dept</th>\n",
              "      <th>Temperature</th>\n",
              "      <th>Fuel_Price</th>\n",
              "      <th>MarkDown1</th>\n",
              "      <th>MarkDown2</th>\n",
              "      <th>MarkDown3</th>\n",
              "      <th>MarkDown4</th>\n",
              "      <th>MarkDown5</th>\n",
              "      <th>CPI</th>\n",
              "      <th>Unemployment</th>\n",
              "      <th>Year</th>\n",
              "      <th>Type_A</th>\n",
              "      <th>Type_B</th>\n",
              "      <th>Type_C</th>\n",
              "      <th>Month_1</th>\n",
              "      <th>Month_10</th>\n",
              "      <th>Month_11</th>\n",
              "      <th>Month_12</th>\n",
              "      <th>Month_2</th>\n",
              "      <th>Month_3</th>\n",
              "      <th>Month_4</th>\n",
              "      <th>Month_5</th>\n",
              "      <th>Month_6</th>\n",
              "      <th>Month_7</th>\n",
              "      <th>Month_8</th>\n",
              "      <th>Month_9</th>\n",
              "      <th>Weekly_Sales</th>\n",
              "      <th>Label</th>\n",
              "    </tr>\n",
              "  </thead>\n",
              "  <tbody>\n",
              "    <tr>\n",
              "      <th>0</th>\n",
              "      <td>1.001431</td>\n",
              "      <td>-1.090575</td>\n",
              "      <td>-0.726573</td>\n",
              "      <td>0.590159</td>\n",
              "      <td>1.767504e-08</td>\n",
              "      <td>1.080892e-08</td>\n",
              "      <td>-1.764839e-08</td>\n",
              "      <td>1.279395e-08</td>\n",
              "      <td>-4.859754e-08</td>\n",
              "      <td>-0.854341</td>\n",
              "      <td>0.314443</td>\n",
              "      <td>0.040152</td>\n",
              "      <td>0.0</td>\n",
              "      <td>1.0</td>\n",
              "      <td>0.0</td>\n",
              "      <td>0.0</td>\n",
              "      <td>0.0</td>\n",
              "      <td>0.0</td>\n",
              "      <td>0.0</td>\n",
              "      <td>0.0</td>\n",
              "      <td>1.0</td>\n",
              "      <td>0.0</td>\n",
              "      <td>0.0</td>\n",
              "      <td>0.0</td>\n",
              "      <td>0.0</td>\n",
              "      <td>0.0</td>\n",
              "      <td>0.0</td>\n",
              "      <td>11074.870117</td>\n",
              "      <td>11470.273828</td>\n",
              "    </tr>\n",
              "    <tr>\n",
              "      <th>1</th>\n",
              "      <td>-0.093728</td>\n",
              "      <td>1.565044</td>\n",
              "      <td>1.307947</td>\n",
              "      <td>-0.107994</td>\n",
              "      <td>-4.948652e-01</td>\n",
              "      <td>-6.742898e-01</td>\n",
              "      <td>-2.597000e-01</td>\n",
              "      <td>4.923720e-02</td>\n",
              "      <td>-7.672776e-02</td>\n",
              "      <td>1.286447</td>\n",
              "      <td>-0.748984</td>\n",
              "      <td>1.294794</td>\n",
              "      <td>0.0</td>\n",
              "      <td>1.0</td>\n",
              "      <td>0.0</td>\n",
              "      <td>0.0</td>\n",
              "      <td>0.0</td>\n",
              "      <td>0.0</td>\n",
              "      <td>0.0</td>\n",
              "      <td>0.0</td>\n",
              "      <td>0.0</td>\n",
              "      <td>0.0</td>\n",
              "      <td>0.0</td>\n",
              "      <td>0.0</td>\n",
              "      <td>1.0</td>\n",
              "      <td>0.0</td>\n",
              "      <td>0.0</td>\n",
              "      <td>23573.830078</td>\n",
              "      <td>23636.671934</td>\n",
              "    </tr>\n",
              "    <tr>\n",
              "      <th>2</th>\n",
              "      <td>0.532077</td>\n",
              "      <td>-0.664365</td>\n",
              "      <td>-1.320155</td>\n",
              "      <td>0.642520</td>\n",
              "      <td>1.701373e+00</td>\n",
              "      <td>-1.825787e-01</td>\n",
              "      <td>-2.607598e-01</td>\n",
              "      <td>3.918799e-01</td>\n",
              "      <td>-1.657790e-01</td>\n",
              "      <td>-0.868979</td>\n",
              "      <td>0.549748</td>\n",
              "      <td>1.294794</td>\n",
              "      <td>0.0</td>\n",
              "      <td>1.0</td>\n",
              "      <td>0.0</td>\n",
              "      <td>0.0</td>\n",
              "      <td>0.0</td>\n",
              "      <td>0.0</td>\n",
              "      <td>0.0</td>\n",
              "      <td>1.0</td>\n",
              "      <td>0.0</td>\n",
              "      <td>0.0</td>\n",
              "      <td>0.0</td>\n",
              "      <td>0.0</td>\n",
              "      <td>0.0</td>\n",
              "      <td>0.0</td>\n",
              "      <td>0.0</td>\n",
              "      <td>3855.149902</td>\n",
              "      <td>3077.201909</td>\n",
              "    </tr>\n",
              "    <tr>\n",
              "      <th>3</th>\n",
              "      <td>-0.719533</td>\n",
              "      <td>0.384769</td>\n",
              "      <td>0.318824</td>\n",
              "      <td>0.862875</td>\n",
              "      <td>3.199326e-01</td>\n",
              "      <td>-5.998715e-01</td>\n",
              "      <td>-2.615215e-01</td>\n",
              "      <td>3.285529e-02</td>\n",
              "      <td>4.847471e-01</td>\n",
              "      <td>-1.030812</td>\n",
              "      <td>-1.070585</td>\n",
              "      <td>1.294794</td>\n",
              "      <td>1.0</td>\n",
              "      <td>0.0</td>\n",
              "      <td>0.0</td>\n",
              "      <td>0.0</td>\n",
              "      <td>0.0</td>\n",
              "      <td>0.0</td>\n",
              "      <td>0.0</td>\n",
              "      <td>0.0</td>\n",
              "      <td>0.0</td>\n",
              "      <td>0.0</td>\n",
              "      <td>0.0</td>\n",
              "      <td>1.0</td>\n",
              "      <td>0.0</td>\n",
              "      <td>0.0</td>\n",
              "      <td>0.0</td>\n",
              "      <td>13110.959961</td>\n",
              "      <td>18076.656021</td>\n",
              "    </tr>\n",
              "    <tr>\n",
              "      <th>4</th>\n",
              "      <td>0.140949</td>\n",
              "      <td>-1.352858</td>\n",
              "      <td>-1.005237</td>\n",
              "      <td>1.441032</td>\n",
              "      <td>2.834513e+00</td>\n",
              "      <td>-4.393481e-01</td>\n",
              "      <td>-2.611039e-01</td>\n",
              "      <td>8.829721e+00</td>\n",
              "      <td>-1.921338e-01</td>\n",
              "      <td>-0.860296</td>\n",
              "      <td>0.373404</td>\n",
              "      <td>1.294794</td>\n",
              "      <td>1.0</td>\n",
              "      <td>0.0</td>\n",
              "      <td>0.0</td>\n",
              "      <td>0.0</td>\n",
              "      <td>0.0</td>\n",
              "      <td>0.0</td>\n",
              "      <td>0.0</td>\n",
              "      <td>0.0</td>\n",
              "      <td>1.0</td>\n",
              "      <td>0.0</td>\n",
              "      <td>0.0</td>\n",
              "      <td>0.0</td>\n",
              "      <td>0.0</td>\n",
              "      <td>0.0</td>\n",
              "      <td>0.0</td>\n",
              "      <td>9074.169922</td>\n",
              "      <td>9105.347993</td>\n",
              "    </tr>\n",
              "    <tr>\n",
              "      <th>...</th>\n",
              "      <td>...</td>\n",
              "      <td>...</td>\n",
              "      <td>...</td>\n",
              "      <td>...</td>\n",
              "      <td>...</td>\n",
              "      <td>...</td>\n",
              "      <td>...</td>\n",
              "      <td>...</td>\n",
              "      <td>...</td>\n",
              "      <td>...</td>\n",
              "      <td>...</td>\n",
              "      <td>...</td>\n",
              "      <td>...</td>\n",
              "      <td>...</td>\n",
              "      <td>...</td>\n",
              "      <td>...</td>\n",
              "      <td>...</td>\n",
              "      <td>...</td>\n",
              "      <td>...</td>\n",
              "      <td>...</td>\n",
              "      <td>...</td>\n",
              "      <td>...</td>\n",
              "      <td>...</td>\n",
              "      <td>...</td>\n",
              "      <td>...</td>\n",
              "      <td>...</td>\n",
              "      <td>...</td>\n",
              "      <td>...</td>\n",
              "      <td>...</td>\n",
              "    </tr>\n",
              "    <tr>\n",
              "      <th>126467</th>\n",
              "      <td>-0.484856</td>\n",
              "      <td>-1.156146</td>\n",
              "      <td>0.411351</td>\n",
              "      <td>-1.443211</td>\n",
              "      <td>1.767504e-08</td>\n",
              "      <td>1.080892e-08</td>\n",
              "      <td>-1.764839e-08</td>\n",
              "      <td>1.279395e-08</td>\n",
              "      <td>-4.859754e-08</td>\n",
              "      <td>0.470341</td>\n",
              "      <td>-0.586575</td>\n",
              "      <td>-1.214490</td>\n",
              "      <td>0.0</td>\n",
              "      <td>1.0</td>\n",
              "      <td>0.0</td>\n",
              "      <td>0.0</td>\n",
              "      <td>0.0</td>\n",
              "      <td>0.0</td>\n",
              "      <td>0.0</td>\n",
              "      <td>0.0</td>\n",
              "      <td>0.0</td>\n",
              "      <td>0.0</td>\n",
              "      <td>0.0</td>\n",
              "      <td>0.0</td>\n",
              "      <td>1.0</td>\n",
              "      <td>0.0</td>\n",
              "      <td>0.0</td>\n",
              "      <td>48539.031250</td>\n",
              "      <td>45566.222627</td>\n",
              "    </tr>\n",
              "    <tr>\n",
              "      <th>126468</th>\n",
              "      <td>1.549011</td>\n",
              "      <td>1.532259</td>\n",
              "      <td>0.593159</td>\n",
              "      <td>-0.766875</td>\n",
              "      <td>1.767504e-08</td>\n",
              "      <td>1.080892e-08</td>\n",
              "      <td>-1.764839e-08</td>\n",
              "      <td>1.279395e-08</td>\n",
              "      <td>-4.859754e-08</td>\n",
              "      <td>-1.141599</td>\n",
              "      <td>0.557788</td>\n",
              "      <td>-1.214490</td>\n",
              "      <td>0.0</td>\n",
              "      <td>0.0</td>\n",
              "      <td>1.0</td>\n",
              "      <td>0.0</td>\n",
              "      <td>0.0</td>\n",
              "      <td>1.0</td>\n",
              "      <td>0.0</td>\n",
              "      <td>0.0</td>\n",
              "      <td>0.0</td>\n",
              "      <td>0.0</td>\n",
              "      <td>0.0</td>\n",
              "      <td>0.0</td>\n",
              "      <td>0.0</td>\n",
              "      <td>0.0</td>\n",
              "      <td>0.0</td>\n",
              "      <td>42748.851562</td>\n",
              "      <td>42608.613945</td>\n",
              "    </tr>\n",
              "    <tr>\n",
              "      <th>126469</th>\n",
              "      <td>-1.501789</td>\n",
              "      <td>-0.205369</td>\n",
              "      <td>1.257625</td>\n",
              "      <td>-1.641748</td>\n",
              "      <td>1.767504e-08</td>\n",
              "      <td>1.080892e-08</td>\n",
              "      <td>-1.764839e-08</td>\n",
              "      <td>1.279395e-08</td>\n",
              "      <td>-4.859754e-08</td>\n",
              "      <td>1.107339</td>\n",
              "      <td>-0.330366</td>\n",
              "      <td>-1.214490</td>\n",
              "      <td>0.0</td>\n",
              "      <td>1.0</td>\n",
              "      <td>0.0</td>\n",
              "      <td>0.0</td>\n",
              "      <td>0.0</td>\n",
              "      <td>0.0</td>\n",
              "      <td>0.0</td>\n",
              "      <td>0.0</td>\n",
              "      <td>0.0</td>\n",
              "      <td>0.0</td>\n",
              "      <td>0.0</td>\n",
              "      <td>0.0</td>\n",
              "      <td>1.0</td>\n",
              "      <td>0.0</td>\n",
              "      <td>0.0</td>\n",
              "      <td>123556.421875</td>\n",
              "      <td>127016.744063</td>\n",
              "    </tr>\n",
              "    <tr>\n",
              "      <th>126470</th>\n",
              "      <td>-0.563082</td>\n",
              "      <td>-1.385644</td>\n",
              "      <td>-0.053450</td>\n",
              "      <td>-0.577065</td>\n",
              "      <td>1.767504e-08</td>\n",
              "      <td>1.080892e-08</td>\n",
              "      <td>-1.764839e-08</td>\n",
              "      <td>1.279395e-08</td>\n",
              "      <td>-4.859754e-08</td>\n",
              "      <td>-0.995226</td>\n",
              "      <td>0.119339</td>\n",
              "      <td>-1.214490</td>\n",
              "      <td>0.0</td>\n",
              "      <td>1.0</td>\n",
              "      <td>0.0</td>\n",
              "      <td>0.0</td>\n",
              "      <td>0.0</td>\n",
              "      <td>0.0</td>\n",
              "      <td>0.0</td>\n",
              "      <td>0.0</td>\n",
              "      <td>0.0</td>\n",
              "      <td>0.0</td>\n",
              "      <td>1.0</td>\n",
              "      <td>0.0</td>\n",
              "      <td>0.0</td>\n",
              "      <td>0.0</td>\n",
              "      <td>0.0</td>\n",
              "      <td>26086.189453</td>\n",
              "      <td>25984.808242</td>\n",
              "    </tr>\n",
              "    <tr>\n",
              "      <th>126471</th>\n",
              "      <td>1.314334</td>\n",
              "      <td>-0.697150</td>\n",
              "      <td>0.488728</td>\n",
              "      <td>1.057048</td>\n",
              "      <td>2.650988e-01</td>\n",
              "      <td>-6.668169e-01</td>\n",
              "      <td>-1.764839e-08</td>\n",
              "      <td>-6.679730e-01</td>\n",
              "      <td>3.081249e+00</td>\n",
              "      <td>1.247512</td>\n",
              "      <td>-0.385039</td>\n",
              "      <td>1.294794</td>\n",
              "      <td>1.0</td>\n",
              "      <td>0.0</td>\n",
              "      <td>0.0</td>\n",
              "      <td>0.0</td>\n",
              "      <td>0.0</td>\n",
              "      <td>0.0</td>\n",
              "      <td>0.0</td>\n",
              "      <td>0.0</td>\n",
              "      <td>1.0</td>\n",
              "      <td>0.0</td>\n",
              "      <td>0.0</td>\n",
              "      <td>0.0</td>\n",
              "      <td>0.0</td>\n",
              "      <td>0.0</td>\n",
              "      <td>0.0</td>\n",
              "      <td>18976.310547</td>\n",
              "      <td>18891.181770</td>\n",
              "    </tr>\n",
              "  </tbody>\n",
              "</table>\n",
              "<p>126472 rows × 29 columns</p>\n",
              "</div>"
            ],
            "text/plain": [
              "           Store      Dept  Temperature  ...  Month_9   Weekly_Sales          Label\n",
              "0       1.001431 -1.090575    -0.726573  ...      0.0   11074.870117   11470.273828\n",
              "1      -0.093728  1.565044     1.307947  ...      0.0   23573.830078   23636.671934\n",
              "2       0.532077 -0.664365    -1.320155  ...      0.0    3855.149902    3077.201909\n",
              "3      -0.719533  0.384769     0.318824  ...      0.0   13110.959961   18076.656021\n",
              "4       0.140949 -1.352858    -1.005237  ...      0.0    9074.169922    9105.347993\n",
              "...          ...       ...          ...  ...      ...            ...            ...\n",
              "126467 -0.484856 -1.156146     0.411351  ...      0.0   48539.031250   45566.222627\n",
              "126468  1.549011  1.532259     0.593159  ...      0.0   42748.851562   42608.613945\n",
              "126469 -1.501789 -0.205369     1.257625  ...      0.0  123556.421875  127016.744063\n",
              "126470 -0.563082 -1.385644    -0.053450  ...      0.0   26086.189453   25984.808242\n",
              "126471  1.314334 -0.697150     0.488728  ...      0.0   18976.310547   18891.181770\n",
              "\n",
              "[126472 rows x 29 columns]"
            ]
          },
          "metadata": {
            "tags": []
          },
          "execution_count": 21
        }
      ]
    },
    {
      "cell_type": "code",
      "metadata": {
        "colab": {
          "background_save": true,
          "base_uri": "https://localhost:8080/",
          "height": 171,
          "referenced_widgets": [
            "b33f46b39d374c0fb2d7e06b4b6576e2"
          ]
        },
        "id": "A3IoyOAd8gPO",
        "outputId": "7242c10b-800c-4a2d-cd86-1b653499421b"
      },
      "source": [
        "tuned_rf = tune_model(best_model, n_iter = 50, fold = 3)"
      ],
      "execution_count": null,
      "outputs": [
        {
          "output_type": "display_data",
          "data": {
            "application/vnd.jupyter.widget-view+json": {
              "model_id": "b33f46b39d374c0fb2d7e06b4b6576e2",
              "version_major": 2,
              "version_minor": 0
            },
            "text/plain": [
              "IntProgress(value=0, description='Processing: ', max=7)"
            ]
          },
          "metadata": {
            "tags": []
          }
        },
        {
          "output_type": "display_data",
          "data": {
            "text/html": [
              "<div>\n",
              "<style scoped>\n",
              "    .dataframe tbody tr th:only-of-type {\n",
              "        vertical-align: middle;\n",
              "    }\n",
              "\n",
              "    .dataframe tbody tr th {\n",
              "        vertical-align: top;\n",
              "    }\n",
              "\n",
              "    .dataframe thead th {\n",
              "        text-align: right;\n",
              "    }\n",
              "</style>\n",
              "<table border=\"1\" class=\"dataframe\">\n",
              "  <thead>\n",
              "    <tr style=\"text-align: right;\">\n",
              "      <th></th>\n",
              "      <th></th>\n",
              "      <th></th>\n",
              "    </tr>\n",
              "    <tr>\n",
              "      <th></th>\n",
              "      <th></th>\n",
              "      <th></th>\n",
              "    </tr>\n",
              "  </thead>\n",
              "  <tbody>\n",
              "    <tr>\n",
              "      <th>Initiated</th>\n",
              "      <td>. . . . . . . . . . . . . . . . . .</td>\n",
              "      <td>10:44:15</td>\n",
              "    </tr>\n",
              "    <tr>\n",
              "      <th>Status</th>\n",
              "      <td>. . . . . . . . . . . . . . . . . .</td>\n",
              "      <td>Searching Hyperparameters</td>\n",
              "    </tr>\n",
              "    <tr>\n",
              "      <th>Estimator</th>\n",
              "      <td>. . . . . . . . . . . . . . . . . .</td>\n",
              "      <td>Random Forest Regressor</td>\n",
              "    </tr>\n",
              "  </tbody>\n",
              "</table>\n",
              "</div>"
            ],
            "text/plain": [
              "                                                                         \n",
              "                                                                         \n",
              "Initiated  . . . . . . . . . . . . . . . . . .                   10:44:15\n",
              "Status     . . . . . . . . . . . . . . . . . .  Searching Hyperparameters\n",
              "Estimator  . . . . . . . . . . . . . . . . . .    Random Forest Regressor"
            ]
          },
          "metadata": {
            "tags": []
          }
        },
        {
          "output_type": "display_data",
          "data": {
            "text/html": [
              "<div>\n",
              "<style scoped>\n",
              "    .dataframe tbody tr th:only-of-type {\n",
              "        vertical-align: middle;\n",
              "    }\n",
              "\n",
              "    .dataframe tbody tr th {\n",
              "        vertical-align: top;\n",
              "    }\n",
              "\n",
              "    .dataframe thead th {\n",
              "        text-align: right;\n",
              "    }\n",
              "</style>\n",
              "<table border=\"1\" class=\"dataframe\">\n",
              "  <thead>\n",
              "    <tr style=\"text-align: right;\">\n",
              "      <th></th>\n",
              "      <th>MAE</th>\n",
              "      <th>MSE</th>\n",
              "      <th>RMSE</th>\n",
              "      <th>R2</th>\n",
              "      <th>RMSLE</th>\n",
              "      <th>MAPE</th>\n",
              "    </tr>\n",
              "  </thead>\n",
              "  <tbody>\n",
              "  </tbody>\n",
              "</table>\n",
              "</div>"
            ],
            "text/plain": [
              "Empty DataFrame\n",
              "Columns: [MAE, MSE, RMSE, R2, RMSLE, MAPE]\n",
              "Index: []"
            ]
          },
          "metadata": {
            "tags": []
          }
        },
        {
          "output_type": "stream",
          "text": [
            "Fitting 3 folds for each of 50 candidates, totalling 150 fits\n"
          ],
          "name": "stdout"
        },
        {
          "output_type": "stream",
          "text": [
            "[Parallel(n_jobs=-1)]: Using backend LokyBackend with 2 concurrent workers.\n"
          ],
          "name": "stderr"
        }
      ]
    },
    {
      "cell_type": "code",
      "metadata": {
        "colab": {
          "base_uri": "https://localhost:8080/"
        },
        "id": "g9KeRrmxfcNP",
        "outputId": "478a8ff9-568d-4af7-8add-1ffed7ec0768"
      },
      "source": [
        "save_model(best_model, 'rf_07aug')"
      ],
      "execution_count": null,
      "outputs": [
        {
          "output_type": "stream",
          "text": [
            "Transformation Pipeline and Model Successfully Saved\n"
          ],
          "name": "stdout"
        },
        {
          "output_type": "execute_result",
          "data": {
            "text/plain": [
              "(Pipeline(memory=None,\n",
              "          steps=[('dtypes',\n",
              "                  DataTypes_Auto_infer(categorical_features=['Type'],\n",
              "                                       display_types=True,\n",
              "                                       features_todrop=['Size', 'IsHoliday'],\n",
              "                                       id_columns=[], ml_usecase='regression',\n",
              "                                       numerical_features=['Year'],\n",
              "                                       target='Weekly_Sales',\n",
              "                                       time_features=[])),\n",
              "                 ('imputer',\n",
              "                  Simple_Imputer(categorical_strategy='not_available',\n",
              "                                 fill_value_categorical=None,\n",
              "                                 fill_va...\n",
              "                  RandomForestRegressor(bootstrap=True, ccp_alpha=0.0,\n",
              "                                        criterion='mse', max_depth=None,\n",
              "                                        max_features='auto', max_leaf_nodes=None,\n",
              "                                        max_samples=None,\n",
              "                                        min_impurity_decrease=0.0,\n",
              "                                        min_impurity_split=None,\n",
              "                                        min_samples_leaf=1, min_samples_split=2,\n",
              "                                        min_weight_fraction_leaf=0.0,\n",
              "                                        n_estimators=100, n_jobs=-1,\n",
              "                                        oob_score=False, random_state=121,\n",
              "                                        verbose=0, warm_start=False)]],\n",
              "          verbose=False),\n",
              " 'rf_07aug.pkl')"
            ]
          },
          "metadata": {
            "tags": []
          },
          "execution_count": 24
        }
      ]
    },
    {
      "cell_type": "code",
      "metadata": {
        "id": "JcxiR1ahOKlw"
      },
      "source": [
        "from pycaret.regression import *\n",
        "model = load_model('rf_07aug')"
      ],
      "execution_count": null,
      "outputs": []
    },
    {
      "cell_type": "code",
      "metadata": {
        "colab": {
          "base_uri": "https://localhost:8080/"
        },
        "id": "TcIAWzmfOhoQ",
        "outputId": "9b9ca407-558d-41dd-f167-59185c127d2a"
      },
      "source": [
        "from google.colab import drive\n",
        "drive.mount('/content/drive')"
      ],
      "execution_count": null,
      "outputs": [
        {
          "output_type": "stream",
          "text": [
            "Mounted at /content/drive\n"
          ],
          "name": "stdout"
        }
      ]
    }
  ]
}